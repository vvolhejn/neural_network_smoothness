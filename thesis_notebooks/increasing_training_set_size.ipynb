{
 "cells": [
  {
   "cell_type": "markdown",
   "metadata": {},
   "source": [
    "# Increasing training set size"
   ]
  },
  {
   "cell_type": "code",
   "execution_count": null,
   "metadata": {},
   "outputs": [],
   "source": [
    "import pandas as pd\n",
    "import scipy.stats\n",
    "\n",
    "def read_csv(filename):\n",
    "    return pd.read_csv(\"../thesis_data/{}\".format(filename), index_col=0)"
   ]
  },
  {
   "cell_type": "code",
   "execution_count": null,
   "metadata": {},
   "outputs": [],
   "source": [
    "measure_names = [\n",
    "    \"gradient_norm_test\",\n",
    "    \"path_length_f_test\",\n",
    "    \"path_length_d_test\",\n",
    "    \"weights_product\",\n",
    "]\n",
    "\n",
    "def get_taus(ms, x_col):\n",
    "    y_cols = measure_names\n",
    "    res = [scipy.stats.kendalltau(ms[x_col], ms[y_col]).correlation for y_col in y_cols]\n",
    "    return pd.Series(res, index=y_cols)\n",
    "\n",
    "\n",
    "def get_taus_per_group(ms, groupby, x_col):\n",
    "    \"\"\"\n",
    "    First, group `ms` using `groupby`. For each group, compute the Kendall rank\n",
    "    correlation coefficient between `x_col` and each of the measures. This yields\n",
    "    a coefficient for each group and each measure.\n",
    "    \"\"\"\n",
    "    return ms.groupby(groupby).apply(\n",
    "        lambda df: get_kendalls(df, x_col)\n",
    "    )"
   ]
  },
  {
   "cell_type": "markdown",
   "metadata": {},
   "source": [
    "## One-dimensional"
   ]
  },
  {
   "cell_type": "code",
   "execution_count": null,
   "metadata": {},
   "outputs": [],
   "source": [
    "measures_nn = read_csv(\"increasing_training_set_size_1d.csv\")\n",
    "measures_poly = read_csv(\"increasing_training_set_size_1d_polynomials.csv\")\n",
    "\n",
    "# Remove the models which did not converge within the set number of epochs\n",
    "measures_nn = measures_nn[measures_nn[\"actual_epochs\"] < max(measures_nn[\"actual_epochs\"])]\n",
    "\n",
    "# Each row of `taus_nn` and `taus_poly` corresponds to one dataset (RNG seed),\n",
    "# and each column to one of the smoothness measures.\n",
    "taus_nn = get_taus_per_group(measures_nn, groupby=\"dataset.seed\", x_col=\"dataset.samples_train\")\n",
    "taus_poly = get_taus_per_group(measures_poly, groupby=\"dataset.seed\", x_col=\"dataset.samples_train\")"
   ]
  },
  {
   "cell_type": "code",
   "execution_count": null,
   "metadata": {},
   "outputs": [],
   "source": [
    "taus_nn_summary = taus_nn.describe().loc[[\"mean\", \"std\"]].T\n",
    "taus_poly_summary = taus_poly.describe().loc[[\"mean\", \"std\"]].T\n",
    "\n",
    "pd.concat([taus_nn_summary, taus_poly_summary], axis=\"columns\", keys=[\"Neural networks\", \"Polynomials\"]).round(2)"
   ]
  },
  {
   "cell_type": "markdown",
   "metadata": {},
   "source": [
    "## n-dimensional"
   ]
  },
  {
   "cell_type": "code",
   "execution_count": null,
   "metadata": {},
   "outputs": [],
   "source": [
    "measures_nn = read_csv(\"increasing_training_set_size_nd.csv\")\n",
    "\n",
    "# Remove the models which did not converge within the set number of epochs\n",
    "measures_nn = measures_nn[measures_nn[\"actual_epochs\"] < max(measures_nn[\"actual_epochs\"])]\n",
    "\n",
    "taus_nn = get_taus_per_group(measures_nn, groupby=\"dataset.name\", x_col=\"dataset.samples_train\")"
   ]
  },
  {
   "cell_type": "code",
   "execution_count": null,
   "metadata": {},
   "outputs": [],
   "source": [
    "taus_nn_summary = taus_nn.describe().loc[[\"mean\", \"std\"]].T\n",
    "taus_nn_summary.round(2)"
   ]
  },
  {
   "cell_type": "markdown",
   "metadata": {},
   "source": [
    "## n-dimensional - initialization scale 1.0"
   ]
  },
  {
   "cell_type": "code",
   "execution_count": null,
   "metadata": {},
   "outputs": [],
   "source": [
    "measures_nn = read_csv(\"increasing_training_set_size_nd_init_scale_1.csv\")\n",
    "\n",
    "# Remove the models which did not converge within the set number of epochs\n",
    "measures_nn = measures_nn[measures_nn[\"actual_epochs\"] < max(measures_nn[\"actual_epochs\"])]\n",
    "\n",
    "taus_nn = get_taus_per_group(measures_nn, groupby=\"dataset.name\", x_col=\"dataset.samples_train\")"
   ]
  },
  {
   "cell_type": "code",
   "execution_count": null,
   "metadata": {},
   "outputs": [],
   "source": [
    "taus_nn_summary = taus_nn.describe().loc[[\"mean\", \"std\"]].T\n",
    "taus_nn_summary.round(2)"
   ]
  },
  {
   "cell_type": "code",
   "execution_count": null,
   "metadata": {},
   "outputs": [],
   "source": []
  }
 ],
 "metadata": {
  "kernelspec": {
   "display_name": "tf2",
   "language": "python",
   "name": "tf2"
  },
  "language_info": {
   "codemirror_mode": {
    "name": "ipython",
    "version": 3
   },
   "file_extension": ".py",
   "mimetype": "text/x-python",
   "name": "python",
   "nbconvert_exporter": "python",
   "pygments_lexer": "ipython3",
   "version": "3.5.3"
  }
 },
 "nbformat": 4,
 "nbformat_minor": 4
}
