{
 "cells": [
  {
   "cell_type": "markdown",
   "metadata": {},
   "source": [
    "# Explicit regularization"
   ]
  },
  {
   "cell_type": "code",
   "execution_count": null,
   "metadata": {},
   "outputs": [],
   "source": [
    "import pandas as pd\n",
    "\n",
    "def read_csv(filename):\n",
    "    return pd.read_csv(\"../thesis_data/{}\".format(filename), index_col=0)"
   ]
  },
  {
   "cell_type": "code",
   "execution_count": null,
   "metadata": {},
   "outputs": [],
   "source": [
    "measure_names = [\n",
    "    \"gradient_norm_test\",\n",
    "    \"path_length_f_test\",\n",
    "    \"path_length_d_test\",\n",
    "    \"weights_product\",\n",
    "]\n",
    "\n",
    "def get_ratios(\n",
    "    ms: pd.DataFrame, base_mask: pd.DataFrame, normed_col: str, match_col=\"dataset.name\"\n",
    "):\n",
    "    \"\"\"\n",
    "    Computes normalized values of a dataframe's column by dividing by the value\n",
    "    in a \"corresponding\" row. Used e.g. when explicitly regularizing smoothness measures\n",
    "    \"\"\"\n",
    "    ms = ms.copy()\n",
    "    base = ms[base_mask]\n",
    "    assert base[match_col].is_unique\n",
    "\n",
    "    normed_col_after = normed_col + \"_normalized\"\n",
    "\n",
    "    # Inefficient, but good enough\n",
    "    for _, row in base.iterrows():\n",
    "        cur = ms.loc[ms[match_col] == row[match_col]]\n",
    "        ms.loc[ms[match_col] == row[match_col], normed_col_after] = (\n",
    "            cur[normed_col] / row[normed_col]\n",
    "        )\n",
    "\n",
    "    return ms"
   ]
  },
  {
   "cell_type": "code",
   "execution_count": null,
   "metadata": {},
   "outputs": [],
   "source": [
    "summary = pd.DataFrame(\n",
    "    index=measure_names,\n",
    "    columns=[\"Unregularized mean\", \"Regularized mean\", \"Lower bound\", \"Normalized mean\", \"Normalized std\"],\n",
    "    dtype=float,\n",
    ")\n",
    "\n",
    "summary[\"Lower bound\"] = [0., 1., 0., 0.]"
   ]
  },
  {
   "cell_type": "markdown",
   "metadata": {},
   "source": [
    "## Gradient norm"
   ]
  },
  {
   "cell_type": "code",
   "execution_count": null,
   "metadata": {},
   "outputs": [],
   "source": [
    "measures = read_csv(\"explicit_reg_gradient_norm.csv\")\n",
    "measures = measures.loc[measures[\"model.learning_rate\"] == 0.01]\n",
    "measures = get_ratios(measures, measures[\"model.gradient_norm_reg_coef\"] == 0, \"gradient_norm_test\")\n",
    "\n",
    "def update_summary(measures, measure_name, reg_coef_col_name, baseline=0):\n",
    "    if baseline == 0:\n",
    "        measure_name_normalized = measure_name + \"_normalized\"\n",
    "    else:\n",
    "        measure_name_normalized = measure_name + \"_baselined_normalized\"\n",
    "    \n",
    "    unreg_mean = measures[measures[reg_coef_col_name] == 0][measure_name].mean()\n",
    "    summary.loc[measure_name, \"Unregularized mean\"] = unreg_mean\n",
    "\n",
    "    largest_coef = max(measures[reg_coef_col_name])\n",
    "    stats = measures[measures[reg_coef_col_name] == largest_coef].describe()\n",
    "\n",
    "    summary.loc[measure_name, \"Regularized mean\"] = stats.loc[\"mean\", measure_name]\n",
    "    summary.loc[measure_name, \"Normalized mean\"] = stats.loc[\"mean\", measure_name_normalized]\n",
    "    summary.loc[measure_name, \"Normalized std\"] = stats.loc[\"std\", measure_name_normalized]\n",
    "\n",
    "update_summary(measures, \"gradient_norm_test\", \"model.gradient_norm_reg_coef\")"
   ]
  },
  {
   "cell_type": "markdown",
   "metadata": {},
   "source": [
    "## Weights product"
   ]
  },
  {
   "cell_type": "code",
   "execution_count": null,
   "metadata": {},
   "outputs": [],
   "source": [
    "measures = read_csv(\"explicit_reg_weights_product.csv\")\n",
    "measures = measures.loc[measures[\"model.learning_rate\"] == 0.01]\n",
    "\n",
    "# Only take into account the models which converged in the regularized version.\n",
    "measures = measures.loc[measures[\"actual_epochs\"] < 25000]\n",
    "measures = measures[measures[\"dataset.name\"].isin(\n",
    "    set(measures.loc[measures[\"model.weights_product_reg_coef\"].round(10) == 3e-5, \"dataset.name\"])\n",
    ")]\n",
    "\n",
    "measures = get_ratios(measures, measures[\"model.weights_product_reg_coef\"] == 0, \"weights_product\")\n",
    "\n",
    "update_summary(measures, \"weights_product\", \"model.weights_product_reg_coef\")"
   ]
  },
  {
   "cell_type": "markdown",
   "metadata": {},
   "source": [
    "## Function path length"
   ]
  },
  {
   "cell_type": "code",
   "execution_count": null,
   "metadata": {},
   "outputs": [],
   "source": [
    "measures = read_csv(\"../thesis_data/explicit_reg_function_path_length.csv\")\n",
    "\n",
    "# Only take into account the models which converged in the regularized version.\n",
    "measures = measures.loc[measures[\"actual_epochs\"] < 25000]\n",
    "measures = measures[measures[\"dataset.name\"].isin(\n",
    "    set(measures.loc[measures[\"model.path_length_f_reg_coef\"].round(10) == 0.0001, \"dataset.name\"])\n",
    ")]\n",
    "\n",
    "measures[\"path_length_f_test_baselined\"] = measures[\"path_length_f_test\"] - 1\n",
    "measures = get_ratios(measures, measures[\"model.path_length_f_reg_coef\"] == 0, \"path_length_f_test_baselined\")\n",
    "\n",
    "update_summary(measures, \"path_length_f_test\", \"model.path_length_f_reg_coef\", baseline=1)"
   ]
  },
  {
   "cell_type": "markdown",
   "metadata": {},
   "source": [
    "## Gradient path length"
   ]
  },
  {
   "cell_type": "code",
   "execution_count": null,
   "metadata": {},
   "outputs": [],
   "source": [
    "measures = read_csv(\"../thesis_data/explicit_reg_gradient_path_length.csv\")\n",
    "\n",
    "# Only take into account the models which converged in the regularized version.\n",
    "measures = measures.loc[measures[\"actual_epochs\"] < 25000]\n",
    "measures = measures[measures[\"dataset.name\"].isin(\n",
    "    set(measures.loc[measures[\"model.path_length_d_reg_coef\"].round(10) == 0.00001, \"dataset.name\"])\n",
    ")]\n",
    "\n",
    "measures = get_ratios(measures, measures[\"model.path_length_d_reg_coef\"] == 0, \"path_length_d_test\")\n",
    "\n",
    "update_summary(measures, \"path_length_d_test\", \"model.path_length_d_reg_coef\")"
   ]
  },
  {
   "cell_type": "markdown",
   "metadata": {},
   "source": [
    "## Results"
   ]
  },
  {
   "cell_type": "code",
   "execution_count": null,
   "metadata": {},
   "outputs": [],
   "source": [
    "summary.round(2)"
   ]
  },
  {
   "cell_type": "code",
   "execution_count": null,
   "metadata": {},
   "outputs": [],
   "source": []
  }
 ],
 "metadata": {
  "kernelspec": {
   "display_name": "tf2",
   "language": "python",
   "name": "tf2"
  },
  "language_info": {
   "codemirror_mode": {
    "name": "ipython",
    "version": 3
   },
   "file_extension": ".py",
   "mimetype": "text/x-python",
   "name": "python",
   "nbconvert_exporter": "python",
   "pygments_lexer": "ipython3",
   "version": "3.5.3"
  }
 },
 "nbformat": 4,
 "nbformat_minor": 4
}
