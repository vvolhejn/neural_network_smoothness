{
 "cells": [
  {
   "cell_type": "code",
   "execution_count": null,
   "metadata": {},
   "outputs": [],
   "source": [
    "import os\n",
    "import sys\n",
    "# If we don't need CUDA, do this before importing TF\n",
    "os.environ[\"CUDA_VISIBLE_DEVICES\"] = \"-1\"\n",
    "import tensorflow as tf\n",
    "import numpy as np\n",
    "import pandas as pd\n",
    "import tqdm\n",
    "import tqdm.notebook\n",
    "import matplotlib.pyplot as plt\n",
    "import seaborn as sns\n",
    "import IPython\n",
    "sns.set()\n",
    "\n",
    "os.chdir(\"/nfs/scistore12/chlgrp/vvolhejn/smooth/logs/\")"
   ]
  },
  {
   "cell_type": "code",
   "execution_count": null,
   "metadata": {},
   "outputs": [],
   "source": [
    "%load_ext autoreload\n",
    "%aimport smooth.config\n",
    "%aimport smooth.datasets\n",
    "%aimport smooth.model\n",
    "%aimport smooth.analysis\n",
    "%aimport smooth.callbacks\n",
    "%aimport smooth.measures\n",
    "%aimport smooth.util\n",
    "%autoreload 1"
   ]
  },
  {
   "cell_type": "code",
   "execution_count": null,
   "metadata": {},
   "outputs": [],
   "source": [
    "def should_plot_as_log(measure_name):\n",
    "    patterns = [\n",
    "        \"loss\",\n",
    "#         \"weights_product\",\n",
    "    ]\n",
    "    \n",
    "    for p in patterns:\n",
    "        if p in measure_name:\n",
    "            return True\n",
    "    \n",
    "    return False\n",
    "\n",
    "def plot_measure(ms, measure_name, groupby, xlabel=None):\n",
    "    ms = ms.copy()\n",
    "    if should_plot_as_log(measure_name):\n",
    "        log_measure_name = \"log10_{}\".format(measure_name)\n",
    "        ms[log_measure_name] = np.log10(ms[measure_name])\n",
    "        measure_name = log_measure_name\n",
    "\n",
    "    sns.boxplot(data=ms, x=measure_name, y=groupby, orient=\"h\")\n",
    "    swarm_plot = sns.swarmplot(data=ms, x=measure_name, y=groupby,\n",
    "                      size=2, color=\".3\", linewidth=0, orient=\"h\",\n",
    "                 )\n",
    "    \n",
    "    if xlabel:\n",
    "        swarm_plot.set(xlabel=xlabel)\n",
    "    \n",
    "    return swarm_plot.get_figure()\n",
    "\n",
    "def plot_all_measures(ms, additional_measures=None, groupby=\"kind\"):\n",
    "    for g_id, g in ms.groupby(groupby):\n",
    "        print(g_id, g.count().iloc[0])\n",
    "\n",
    "    for measure in [\n",
    "                \"loss_train\", \"loss_test\",\n",
    "                \"gradient_norm_test\",\n",
    "                \"weights_product\",\n",
    "                \"path_length_f_test\",\n",
    "                \"path_length_d_test\",\n",
    "                \"actual_epochs\",\n",
    "            ] + (additional_measures or []):\n",
    "        plot_measure(ms, measure, groupby)\n",
    "        plt.show()"
   ]
  },
  {
   "cell_type": "markdown",
   "metadata": {},
   "source": [
    "# path_length_f"
   ]
  },
  {
   "cell_type": "code",
   "execution_count": null,
   "metadata": {},
   "outputs": [],
   "source": [
    "ms = smooth.analysis.load_measures(\n",
    "    \"./0508-163442/measures.feather\",\n",
    "    kind_cols=[\n",
    "        (\"model.path_length_f_reg_coef\", \"coef\"),\n",
    "    ],\n",
    ")"
   ]
  },
  {
   "cell_type": "code",
   "execution_count": null,
   "metadata": {},
   "outputs": [],
   "source": [
    "ms0 = smooth.analysis.load_measures(\n",
    "    \"./0508-163442/measures.feather\",\n",
    "    kind_cols=[\n",
    "        (\"model.path_length_f_reg_coef\", \"coef\"),\n",
    "    ],\n",
    ")\n",
    "ms0 = ms0[ms0[\"model.path_length_f_reg_coef\"] == 0]"
   ]
  },
  {
   "cell_type": "code",
   "execution_count": null,
   "metadata": {},
   "outputs": [],
   "source": [
    "ms = smooth.analysis.load_measures(\n",
    "    \"./0508_path_length_f_reg/measures.feather\",\n",
    "    kind_cols=[\n",
    "        (\"model.path_length_f_reg_coef\", \"coef\"),\n",
    "    ],\n",
    ")\n",
    "\n",
    "ms0 = smooth.analysis.load_measures(\n",
    "    \"./0422_path_length_f_reg/measures.feather\",\n",
    "#     \"./0421_path_length_f_reg/measures.feather\",\n",
    "    kind_cols=[\n",
    "        (\"model.path_length_f_reg_coef\", \"coef\"),\n",
    "    ],\n",
    ")\n",
    "\n",
    "ms0 = ms0[ms0[\"model.path_length_f_reg_coef\"] == 0]\n",
    "ms = pd.concat([ms0, ms], sort=False)\n",
    "\n",
    "converged_datasets = ms[(ms[\"model.path_length_f_reg_coef\"] == 0.0001)]\n",
    "ms = ms[ms[\"dataset.name\"].isin(converged_datasets[\"dataset.name\"])]\n",
    "ms[\"path_length_f_test_baselined\"] = ms[\"path_length_f_test\"] - 1\n",
    "\n",
    "ms = smooth.analysis.get_ratios(ms, ms[\"model.path_length_f_reg_coef\"] == 0, \"path_length_f_test_baselined\")\n",
    "\n",
    "plot_all_measures(ms, additional_measures=[\"path_length_f_test_baselined_normalized\"])\n",
    "\n",
    "# sns.relplot(\n",
    "#     data=ms,\n",
    "#     x=\"model.path_length_f_reg_coef\",\n",
    "#     y=\"path_length_f_train\",\n",
    "#     hue=\"dataset.name\",\n",
    "#     kind=\"line\",\n",
    "# )"
   ]
  },
  {
   "cell_type": "code",
   "execution_count": null,
   "metadata": {},
   "outputs": [],
   "source": [
    "ms1 = ms.copy()\n",
    "ms1[\"Regularization coef\"] = ms1[\"model.path_length_f_reg_coef\"]\n",
    "\n",
    "fig1 = plot_measure(ms1, \"path_length_f_test\", groupby=\"Regularization coef\", xlabel=\"Function path length\")\n",
    "fig1.show()\n",
    "# fig1.savefig(\"../figures/teatalk_path_length_f.png\", bbox_inches=\"tight\")\n",
    "# plot_all_measures(ms1, \"Regularization coef\")"
   ]
  },
  {
   "cell_type": "code",
   "execution_count": null,
   "metadata": {},
   "outputs": [],
   "source": [
    "fig1 = plot_measure(\n",
    "    ms1, \"path_length_f_test_baselined_normalized\",\n",
    "    groupby=\"Regularization coef\",\n",
    "    xlabel=\"Function path length - baselined and normalized\"\n",
    ")\n",
    "fig1.show()\n",
    "# fig1.savefig(\"../figures/teatalk_path_length_f_normalized.png\", bbox_inches=\"tight\")"
   ]
  },
  {
   "cell_type": "markdown",
   "metadata": {},
   "source": [
    "## path_length_d\n",
    "\n",
    "For a redo of this experiment with a longer training time, see `figures_explicit_regularization.ipynb`"
   ]
  },
  {
   "cell_type": "code",
   "execution_count": null,
   "metadata": {},
   "outputs": [],
   "source": [
    "ms = smooth.analysis.load_measures(\n",
    "    \"./0423-105330/measures.feather\",\n",
    "    kind_cols=[\n",
    "        (\"model.path_length_d_reg_coef\", \"coef\"),\n",
    "    ],\n",
    ")\n",
    "\n",
    "ms1 = smooth.analysis.load_measures(\n",
    "    \"./0426-120233/measures.feather\",\n",
    "    kind_cols=[\n",
    "        (\"model.path_length_d_reg_coef\", \"coef\"),\n",
    "    ],\n",
    ")\n",
    "\n",
    "ms = ms[ms[\"dataset.name\"].isin(set(ms1[\"dataset.name\"]))]\n",
    "\n",
    "ms = pd.concat([ms, ms1], sort=False)\n",
    "ms = smooth.analysis.get_ratios(ms, ms[\"model.path_length_d_reg_coef\"] == 0, \"path_length_d_test\")\n",
    "\n",
    "# converged_datasets = ms[(ms[\"model.path_length_f_reg_coef\"] == 0.0001)]\n",
    "# ms = ms[ms[\"dataset.name\"].isin(converged_datasets[\"dataset.name\"])]\n",
    "\n",
    "plot_all_measures(ms, additional_measures=[\"path_length_d_test_normed\"])"
   ]
  },
  {
   "cell_type": "code",
   "execution_count": null,
   "metadata": {},
   "outputs": [],
   "source": [
    "ms1 = ms.copy()\n",
    "ms1[\"Regularization coef\"] = ms1[\"model.path_length_d_reg_coef\"]\n",
    "\n",
    "fig1 = plot_measure(ms1, \"path_length_d_test\", groupby=\"Regularization coef\", xlabel=\"Gradient path length\")\n",
    "fig1.show()\n",
    "fig1.savefig(\"../figures/teatalk_path_length_d.png\", bbox_inches=\"tight\")\n",
    "# plot_all_measures(ms1, \"Regularization coef\")"
   ]
  },
  {
   "cell_type": "code",
   "execution_count": null,
   "metadata": {},
   "outputs": [],
   "source": [
    "fig1 = plot_measure(\n",
    "    ms1, \"path_length_d_test_normed\",\n",
    "    groupby=\"Regularization coef\",\n",
    "    xlabel=\"Gradient path length - normalized\"\n",
    ")\n",
    "fig1.show()\n",
    "fig1.savefig(\"../figures/teatalk_path_length_d_normalized.png\", bbox_inches=\"tight\")"
   ]
  },
  {
   "cell_type": "code",
   "execution_count": null,
   "metadata": {},
   "outputs": [],
   "source": [
    "ms[\"path_length_d_test_normed\"]"
   ]
  },
  {
   "cell_type": "code",
   "execution_count": null,
   "metadata": {},
   "outputs": [],
   "source": [
    "for row in ms[:3].iterrows():\n",
    "    print(row)"
   ]
  },
  {
   "cell_type": "code",
   "execution_count": null,
   "metadata": {},
   "outputs": [],
   "source": []
  },
  {
   "cell_type": "code",
   "execution_count": null,
   "metadata": {},
   "outputs": [],
   "source": []
  },
  {
   "cell_type": "code",
   "execution_count": null,
   "metadata": {},
   "outputs": [],
   "source": []
  }
 ],
 "metadata": {
  "kernelspec": {
   "display_name": "tf2",
   "language": "python",
   "name": "tf2"
  },
  "language_info": {
   "codemirror_mode": {
    "name": "ipython",
    "version": 3
   },
   "file_extension": ".py",
   "mimetype": "text/x-python",
   "name": "python",
   "nbconvert_exporter": "python",
   "pygments_lexer": "ipython3",
   "version": "3.5.3"
  }
 },
 "nbformat": 4,
 "nbformat_minor": 4
}
