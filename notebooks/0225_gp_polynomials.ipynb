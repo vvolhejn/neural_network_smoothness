{
 "cells": [
  {
   "cell_type": "markdown",
   "metadata": {},
   "source": [
    "# Polynomial interpolation is not smooth\n",
    "\n",
    "To compare the smoothness of NNs/SGD with a different model, we investigate polynomial interpolation."
   ]
  },
  {
   "cell_type": "code",
   "execution_count": null,
   "metadata": {
    "pycharm": {
     "is_executing": false
    }
   },
   "outputs": [],
   "source": [
    "import os\n",
    "import sys\n",
    "import warnings\n",
    "# If we don't need CUDA, do this before importing TF\n",
    "os.environ[\"CUDA_VISIBLE_DEVICES\"] = \"-1\"\n",
    "import tensorflow as tf\n",
    "import numpy as np\n",
    "import pandas as pd\n",
    "import tqdm\n",
    "import tqdm.notebook\n",
    "import scipy.stats\n",
    "\n",
    "import matplotlib.pyplot as plt\n",
    "\n",
    "gpus = tf.config.experimental.list_physical_devices('GPU')\n",
    "if gpus:\n",
    "    tf.config.experimental.set_visible_devices([gpus[1]], 'GPU')\n",
    "\n",
    "sys.path.append(\"/nfs/scistore12/chlgrp/vvolhejn/smooth\")\n",
    "\n",
    "os.chdir(\"/nfs/scistore12/chlgrp/vvolhejn/smooth/logs/0224_gp2/\")"
   ]
  },
  {
   "cell_type": "code",
   "execution_count": null,
   "metadata": {
    "pycharm": {
     "is_executing": false
    }
   },
   "outputs": [],
   "source": [
    "%load_ext autoreload\n",
    "%aimport smooth.datasets\n",
    "%aimport smooth.model\n",
    "%aimport smooth.analysis\n",
    "%aimport smooth.callbacks\n",
    "%aimport smooth.measures\n",
    "%aimport smooth.util\n",
    "%autoreload 1"
   ]
  },
  {
   "cell_type": "markdown",
   "metadata": {},
   "source": [
    "## Visualisation of polynomial fits\n",
    "\n",
    "The polynomials are unnecessarily \"wiggly\", as we can see here.\n",
    "The training points are selected so that a smaller training set is always a subset of a larger one."
   ]
  },
  {
   "cell_type": "code",
   "execution_count": null,
   "metadata": {},
   "outputs": [],
   "source": [
    "for n in range(5, 30, 2):\n",
    "    dataset = smooth.datasets.GaussianProcessDataset.from_name(\"gp-1-123-0.3-{}\".format(n))\n",
    "    model = smooth.model.interpolate_polynomial(dataset)\n",
    "    plt.scatter(dataset.x_train, dataset.y_train, alpha=0.5)\n",
    "    plt.plot(dataset.x_test, model(dataset.x_test))\n",
    "    plt.title(\"samples_train={}\".format(n))\n",
    "    plt.show()"
   ]
  },
  {
   "cell_type": "markdown",
   "metadata": {},
   "source": [
    "Now let's plot our measures as a function of the number of training samples. For smooth training procedures,\n",
    "the plots should be nondecreasing."
   ]
  },
  {
   "cell_type": "code",
   "execution_count": null,
   "metadata": {},
   "outputs": [],
   "source": [
    "datasets = [\"gp-1-123-0.1-{}\".format(x) for x in range(2, 100)]\n",
    "im_train = smooth.analysis.get_interpolation_measures(datasets, use_test_set=False)\n",
    "im_test = smooth.analysis.get_interpolation_measures(datasets, use_test_set=rue)\n",
    "im_poly = smooth.analysis.get_interpolation_measures(datasets, use_polynomial=True)\n",
    "# im_train = smooth.analysis.expand_dataset_columns(im_train.reset_index())\n",
    "# im_test = smooth.analysis.expand_dataset_columns(im_test.reset_index())\n",
    "# im_poly = smooth.analysis.expand_dataset_columns(im_poly.reset_index())"
   ]
  },
  {
   "cell_type": "code",
   "execution_count": null,
   "metadata": {},
   "outputs": [],
   "source": [
    "def plot_by_samples(df, measure_name, label=None):\n",
    "    df1 = df\n",
    "    df1 = df1.sort_values(\"samples_train\")\n",
    "    samples_variants = df1[\"samples_train\"].unique()\n",
    "    samples_variants.sort()\n",
    "    \n",
    "    plt.plot(df1[\"samples_train\"], df1[measure_name], label=label)\n",
    "    plt.title(measure_name)\n",
    "    return samples_variants\n",
    "\n",
    "for measure in [\"gradient_norm\", \"seg_total_variation\", \"seg_total_variation_derivative\"]:\n",
    "    plot_by_samples(im_train, measure, label=\"piecewise linear - training set\")\n",
    "    plot_by_samples(im_test, measure, label=\"piecewise linear - test set\")\n",
    "    plot_by_samples(im_poly, measure, label=\"polynomial - training set\")\n",
    "    plt.legend(loc='upper right')\n",
    "    plt.show()"
   ]
  },
  {
   "cell_type": "markdown",
   "metadata": {},
   "source": [
    "We can see that for polynomials, the trend is indeed far from nondecreasing."
   ]
  },
  {
   "cell_type": "code",
   "execution_count": null,
   "metadata": {},
   "outputs": [],
   "source": []
  }
 ],
 "metadata": {
  "kernelspec": {
   "display_name": "tf2",
   "language": "python",
   "name": "tf2"
  },
  "language_info": {
   "codemirror_mode": {
    "name": "ipython",
    "version": 3
   },
   "file_extension": ".py",
   "mimetype": "text/x-python",
   "name": "python",
   "nbconvert_exporter": "python",
   "pygments_lexer": "ipython3",
   "version": "3.5.3"
  },
  "pycharm": {
   "stem_cell": {
    "cell_type": "raw",
    "metadata": {
     "collapsed": false
    },
    "source": []
   }
  }
 },
 "nbformat": 4,
 "nbformat_minor": 4
}
