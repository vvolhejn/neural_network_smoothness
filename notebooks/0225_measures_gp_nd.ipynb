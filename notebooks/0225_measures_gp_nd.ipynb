{
 "cells": [
  {
   "cell_type": "code",
   "execution_count": null,
   "metadata": {
    "pycharm": {
     "is_executing": false
    }
   },
   "outputs": [],
   "source": [
    "import os\n",
    "import sys\n",
    "# If we don't need CUDA, do this before importing TF\n",
    "os.environ[\"CUDA_VISIBLE_DEVICES\"] = \"-1\"\n",
    "import tensorflow as tf\n",
    "import numpy as np\n",
    "import pandas as pd\n",
    "import tqdm\n",
    "import tqdm.notebook\n",
    "import scipy.stats\n",
    "import matplotlib.pyplot as plt\n",
    "import seaborn as sns\n",
    "\n",
    "gpus = tf.config.experimental.list_physical_devices('GPU')\n",
    "if gpus:\n",
    "    tf.config.experimental.set_visible_devices([gpus[1]], 'GPU')\n",
    "\n",
    "sys.path.append(\"/nfs/scistore12/chlgrp/vvolhejn/smooth\")\n",
    "\n",
    "os.chdir(\"/nfs/scistore12/chlgrp/vvolhejn/smooth/logs/0225_gp1/\")"
   ]
  },
  {
   "cell_type": "code",
   "execution_count": null,
   "metadata": {
    "pycharm": {
     "is_executing": false
    }
   },
   "outputs": [],
   "source": [
    "%load_ext autoreload\n",
    "%aimport smooth.datasets\n",
    "%aimport smooth.model\n",
    "%aimport smooth.analysis\n",
    "%aimport smooth.callbacks\n",
    "%aimport smooth.measures\n",
    "%aimport smooth.util\n",
    "%autoreload 1"
   ]
  },
  {
   "cell_type": "code",
   "execution_count": null,
   "metadata": {},
   "outputs": [],
   "source": [
    "%%time\n",
    "dataset = smooth.datasets.GaussianProcessDataset(samples_train=100, lengthscale=1.0, seed=123, dim=1000)"
   ]
  },
  {
   "cell_type": "code",
   "execution_count": null,
   "metadata": {},
   "outputs": [],
   "source": [
    "# dataset.gp_model.plot()"
   ]
  },
  {
   "cell_type": "code",
   "execution_count": null,
   "metadata": {},
   "outputs": [],
   "source": [
    "_history_cb = smooth.callbacks.WeightsHistoryCallback(min_snapshots=200)\n",
    "_model = smooth.model.train_shallow(\n",
    "    dataset,\n",
    "    learning_rate=0.01,\n",
    "    init_scale=100.,\n",
    "    epochs=100000,\n",
    "    hidden_size=500,\n",
    "    batch_size=len(dataset.x_train),\n",
    "    verbose=0,\n",
    "    callbacks=[\n",
    "        tf.keras.callbacks.EarlyStopping(\"loss\", min_delta=1e-5, patience=1000),\n",
    "        smooth.callbacks.Tqdm(verbose=0),\n",
    "        tf.keras.callbacks.TerminateOnNaN(),\n",
    "        _history_cb\n",
    "    ],\n",
    "    train_val_split=1.0,\n",
    "    activation=\"relu\",\n",
    ")\n",
    "# smooth.analysis.plot_shallow(_model, dataset)\n",
    "# _ani = smooth.analysis.plot_shallow(_model, dataset, weights_history=_history_cb.weights_history)\n",
    "# display(HTML(_ani.to_html5_video()))"
   ]
  },
  {
   "cell_type": "code",
   "execution_count": null,
   "metadata": {},
   "outputs": [],
   "source": [
    "np.isfinite(_model.history.history[\"loss\"][-1])"
   ]
  },
  {
   "cell_type": "code",
   "execution_count": null,
   "metadata": {},
   "outputs": [],
   "source": [
    "_model.evaluate(dataset.x_train, dataset.y_train)"
   ]
  },
  {
   "cell_type": "code",
   "execution_count": null,
   "metadata": {},
   "outputs": [],
   "source": [
    "k = 100\n",
    "xs, ys = np.linspace(-2, 2, k), np.linspace(-2, 2, k)\n",
    "grid = [(x, y) for x in xs for y in ys]\n",
    "grid = np.array(grid)\n",
    "# plt.contour(xs, ys, _model.predict(grid).reshape(k, k))\n",
    "plt.contour(xs, ys, dataset.gp_model.predict_noiseless(grid)[0].reshape(k, k))\n",
    "# grid\n",
    "# plt.contour(dataset.x_test[:,0], dataset.x_test[:,1], _model.predict(dataset.x_test))\n",
    "# _model.predict(grid).reshape(50, 50)\n",
    "grid[:,0].shape"
   ]
  },
  {
   "cell_type": "code",
   "execution_count": null,
   "metadata": {},
   "outputs": [],
   "source": [
    "dataset.gp_model.predict_noiseless(grid)[0]"
   ]
  },
  {
   "cell_type": "code",
   "execution_count": null,
   "metadata": {},
   "outputs": [],
   "source": [
    "import GPy\n",
    "\n",
    "dim = 2\n",
    "gp_model = GPy.models.GPRegression(\n",
    "    # It seems the constructor needs at least 1 data point.\n",
    "    np.array([[0] * dim]),\n",
    "    np.array([[0]]),\n",
    "    noise_var=0.001,\n",
    ")\n",
    "gp_model.kern.lengthscale = 0.3\n",
    "samples_test = 100\n",
    "x_test = np.random.randn(samples_test, dim)\n",
    "y_test = gp_model.posterior_samples_f(x_test, size=1)[:, :, 0]\n",
    "gp_model.set_XY(x_test, y_test)\n",
    "samples_train = 10\n",
    "indices = smooth.util.subsample_regularly(samples_test, samples_train)\n",
    "x_train = x_test[indices]\n",
    "y_train = gp_model.posterior_samples_f(x_train, size=1)[:, :, 0]\n",
    "y_train"
   ]
  },
  {
   "cell_type": "code",
   "execution_count": null,
   "metadata": {},
   "outputs": [],
   "source": []
  }
 ],
 "metadata": {
  "kernelspec": {
   "display_name": "tf2",
   "language": "python",
   "name": "tf2"
  },
  "language_info": {
   "codemirror_mode": {
    "name": "ipython",
    "version": 3
   },
   "file_extension": ".py",
   "mimetype": "text/x-python",
   "name": "python",
   "nbconvert_exporter": "python",
   "pygments_lexer": "ipython3",
   "version": "3.5.3"
  },
  "pycharm": {
   "stem_cell": {
    "cell_type": "raw",
    "metadata": {
     "collapsed": false
    },
    "source": []
   }
  }
 },
 "nbformat": 4,
 "nbformat_minor": 4
}
