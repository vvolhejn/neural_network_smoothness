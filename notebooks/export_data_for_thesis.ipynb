{
 "cells": [
  {
   "cell_type": "code",
   "execution_count": null,
   "metadata": {},
   "outputs": [],
   "source": [
    "import os\n",
    "import sys\n",
    "import shutil\n",
    "# If we don't need CUDA, do this before importing TF\n",
    "os.environ[\"CUDA_VISIBLE_DEVICES\"] = \"-1\"\n",
    "import tensorflow as tf\n",
    "import numpy as np\n",
    "import pandas as pd\n",
    "import tqdm\n",
    "import tqdm.notebook\n",
    "import matplotlib.pyplot as plt\n",
    "import seaborn as sns\n",
    "import IPython\n",
    "sns.set()\n",
    "\n",
    "os.chdir(\"/nfs/scistore12/chlgrp/vvolhejn/smooth/logs/\")\n",
    "\n",
    "from io import StringIO\n"
   ]
  },
  {
   "cell_type": "markdown",
   "metadata": {},
   "source": [
    "## Relevant notebooks:\n",
    "\n",
    "```\n",
    "0516_1d_redo\n",
    "0406_mnist_binary_increasing\n",
    "```"
   ]
  },
  {
   "cell_type": "code",
   "execution_count": null,
   "metadata": {},
   "outputs": [],
   "source": [
    "to_export_csv = StringIO(\"\"\"\n",
    "path,name\n",
    "0519_gp_1d/measures.feather,increasing_training_set_size_1d\n",
    "0519_gp_1d/measures_polynomials.feather,increasing_training_set_size_1d_polynomials\n",
    "0519_binary_increasing/measures.feather,increasing_training_set_size_nd\n",
    "0410_gradient_reg/measures.feather,explicit_reg_gradient_norm\n",
    "0413_weights_product_reg/measures_both.feather,explicit_reg_weights_product\n",
    "0508_path_length_f_reg/measures_both.feather,explicit_reg_function_path_length\n",
    "0508_path_length_d_reg/measures_both.feather,explicit_reg_gradient_path_length\n",
    "\"\"\")\n",
    "\n",
    "exported_experiments = pd.read_csv(to_export_csv)"
   ]
  },
  {
   "cell_type": "code",
   "execution_count": null,
   "metadata": {},
   "outputs": [],
   "source": [
    "!rm ../thesis_data/*.csv\n",
    "!rm ../thesis_data/*.yaml\n",
    "\n",
    "output_dir = \"../thesis_data/\"\n",
    "os.makedirs(output_dir, exist_ok=True)\n",
    "\n",
    "for i, row in exported_experiments.iterrows():\n",
    "    ms = pd.read_feather(row[\"path\"])\n",
    "    ms.to_csv(os.path.join(output_dir, row[\"name\"] + \".csv\"))\n",
    "\n",
    "    # Sometimes the measures are combined from multiple experiments, so we create\n",
    "    # modified (combined) configs so that the experiment can be reproduced in one go\n",
    "    config_src = \"run_config.yaml\"\n",
    "    if os.path.isfile(os.path.join(os.path.dirname(row[\"path\"]), \"run_config_for_thesis.yaml\")):\n",
    "        config_src = \"run_config_for_thesis.yaml\"\n",
    "        print(\"Using prepared run config for {}\".format(row[\"path\"]))\n",
    "    \n",
    "    shutil.copyfile(\n",
    "        os.path.join(os.path.dirname(row[\"path\"]), config_src),\n",
    "        os.path.join(output_dir, \"{}_run_config.yaml\".format(row[\"name\"])),\n",
    "    )\n",
    "\n",
    "os.listdir(output_dir)"
   ]
  },
  {
   "cell_type": "code",
   "execution_count": null,
   "metadata": {},
   "outputs": [],
   "source": []
  }
 ],
 "metadata": {
  "kernelspec": {
   "display_name": "tf2",
   "language": "python",
   "name": "tf2"
  },
  "language_info": {
   "codemirror_mode": {
    "name": "ipython",
    "version": 3
   },
   "file_extension": ".py",
   "mimetype": "text/x-python",
   "name": "python",
   "nbconvert_exporter": "python",
   "pygments_lexer": "ipython3",
   "version": "3.5.3"
  }
 },
 "nbformat": 4,
 "nbformat_minor": 4
}
