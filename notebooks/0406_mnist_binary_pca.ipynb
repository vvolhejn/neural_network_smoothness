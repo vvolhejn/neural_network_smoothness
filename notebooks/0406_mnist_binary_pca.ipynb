{
 "cells": [
  {
   "cell_type": "markdown",
   "metadata": {},
   "source": [
    "# Applying PCA, then regressing"
   ]
  },
  {
   "cell_type": "code",
   "execution_count": null,
   "metadata": {},
   "outputs": [],
   "source": [
    "import os\n",
    "import sys\n",
    "# If we don't need CUDA, do this before importing TF\n",
    "os.environ[\"CUDA_VISIBLE_DEVICES\"] = \"-1\"\n",
    "import tensorflow as tf\n",
    "import numpy as np\n",
    "import pandas as pd\n",
    "import tqdm\n",
    "import tqdm.notebook\n",
    "import matplotlib.pyplot as plt\n",
    "import seaborn as sns\n",
    "import IPython\n",
    "sns.set()"
   ]
  },
  {
   "cell_type": "code",
   "execution_count": null,
   "metadata": {},
   "outputs": [],
   "source": [
    "%load_ext autoreload\n",
    "%aimport smooth.config\n",
    "%aimport smooth.datasets\n",
    "%aimport smooth.model\n",
    "%aimport smooth.analysis\n",
    "%aimport smooth.callbacks\n",
    "%aimport smooth.measures\n",
    "%aimport smooth.util\n",
    "%autoreload 1"
   ]
  },
  {
   "cell_type": "code",
   "execution_count": null,
   "metadata": {},
   "outputs": [],
   "source": [
    "os.chdir(\"/nfs/scistore12/chlgrp/vvolhejn/smooth/logs/\")\n",
    "\n",
    "# ms = pd.read_feather(\"0326_mnist_binary/measures.feather\")\n",
    "# ms2 = pd.read_feather(\"0329_mnist_binary_gradient_norm/measures.feather\")\n",
    "\n",
    "ms_finetune = pd.read_feather(\"./0402_mnist_binary_finetune/measures.feather\")\n",
    "ms_finetune[\"kind\"] = \"IS: \" + ms_finetune[\"model.init_scale\"].map(str) + \", LR: \" + ms_finetune[\"model.learning_rate\"].map(str)\n",
    "\n",
    "ms = ms_finetune \n",
    "# ms = pd.concat([ms2, ms_finetune], sort=False)\n",
    "ms = ms.reset_index(drop=True)\n",
    "\n",
    "print(\"Removing {} entries\".format(sum(ms[\"gradient_norm_test\"].isna())))\n",
    "ms = ms[~ms[\"gradient_norm_test\"].isna()]\n",
    "ms[\"model.weights_product_reg_coef\"] = ms[\"model.weights_product_reg_coef\"].fillna(value=0)\n",
    "\n",
    "smooth.analysis.remove_constant_columns(ms, verbose=True)\n",
    "\n",
    "ms.head()"
   ]
  },
  {
   "cell_type": "code",
   "execution_count": null,
   "metadata": {},
   "outputs": [],
   "source": [
    "ms[\"path_length_f_loss\"] = ms[\"path_length_f_test\"] - 1"
   ]
  },
  {
   "cell_type": "code",
   "execution_count": null,
   "metadata": {},
   "outputs": [],
   "source": [
    "def plot_measure(measure_name):\n",
    "    kinds = sorted(ms[\"kind\"].unique())\n",
    "    data = ms[[measure_name, \"kind\"]].copy()\n",
    "    \n",
    "    if \"loss\" in measure_name:\n",
    "        log_measure_name = \"log10_{}\".format(measure_name)\n",
    "        data[log_measure_name] = np.log10(ms[measure_name])\n",
    "        measure_name = log_measure_name\n",
    "    \n",
    "    for kind in kinds:\n",
    "        grid = sns.distplot(\n",
    "            data.loc[data[\"kind\"] == kind, measure_name],\n",
    "            label=kind,\n",
    "            hist_kws={\n",
    "                \"range\": (data[measure_name].min(), data[measure_name].max()),\n",
    "            },\n",
    "            bins=10,\n",
    "        )\n",
    "\n",
    "    plt.legend()\n",
    "    plt.show()\n",
    "\n",
    "for measure in [\n",
    "            \"loss_train\", \"loss_test\",\n",
    "            \"gradient_norm_test\",\n",
    "            \"weights_product\",\n",
    "            \"path_length_f_test\",\n",
    "            \"path_length_f_loss\",\n",
    "            \"path_length_d_test\",\n",
    "        ]:\n",
    "    plot_measure(measure)"
   ]
  },
  {
   "cell_type": "code",
   "execution_count": null,
   "metadata": {},
   "outputs": [],
   "source": [
    "dataset = smooth.datasets.from_params(\"mnist01\")\n",
    "\n",
    "import sklearn.decomposition\n",
    "pca = sklearn.decomposition.PCA(n_components=2)\n",
    "x2 = pca.fit_transform(dataset.x_train.reshape(len(dataset.x_train), -1))\n",
    "# pca.transform(dataset.x_train[:1].reshape(1, -1))\n",
    "x2"
   ]
  },
  {
   "cell_type": "code",
   "execution_count": null,
   "metadata": {},
   "outputs": [],
   "source": [
    "dataset = smooth.datasets.from_params(\"mnist01\", pca_dims=2)"
   ]
  },
  {
   "cell_type": "code",
   "execution_count": null,
   "metadata": {},
   "outputs": [],
   "source": []
  }
 ],
 "metadata": {
  "kernelspec": {
   "display_name": "tf2",
   "language": "python",
   "name": "tf2"
  },
  "language_info": {
   "codemirror_mode": {
    "name": "ipython",
    "version": 3
   },
   "file_extension": ".py",
   "mimetype": "text/x-python",
   "name": "python",
   "nbconvert_exporter": "python",
   "pygments_lexer": "ipython3",
   "version": "3.5.3"
  }
 },
 "nbformat": 4,
 "nbformat_minor": 4
}
