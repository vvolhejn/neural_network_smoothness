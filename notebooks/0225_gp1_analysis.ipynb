{
 "cells": [
  {
   "cell_type": "markdown",
   "metadata": {},
   "source": [
    "# Further results with 1D Gaussian process datasets\n",
    "\n",
    "We discovered reasonable hyperparameters before, so now let's train some models with varying number of training samples and see what the measures' trend looks like.\n",
    "\n",
    "We want to contrast this to the case of polynomial interpolation."
   ]
  },
  {
   "cell_type": "code",
   "execution_count": null,
   "metadata": {
    "pycharm": {
     "is_executing": false
    }
   },
   "outputs": [],
   "source": [
    "import os\n",
    "import sys\n",
    "# If we don't need CUDA, do this before importing TF\n",
    "os.environ[\"CUDA_VISIBLE_DEVICES\"] = \"-1\"\n",
    "import tensorflow as tf\n",
    "import numpy as np\n",
    "import pandas as pd\n",
    "import tqdm\n",
    "import tqdm.notebook\n",
    "import scipy.stats\n",
    "import matplotlib.pyplot as plt\n",
    "import seaborn as sns\n",
    "\n",
    "gpus = tf.config.experimental.list_physical_devices('GPU')\n",
    "if gpus:\n",
    "    tf.config.experimental.set_visible_devices([gpus[1]], 'GPU')\n",
    "\n",
    "sys.path.append(\"/nfs/scistore12/chlgrp/vvolhejn/smooth\")\n",
    "\n",
    "os.chdir(\"/nfs/scistore12/chlgrp/vvolhejn/smooth/logs/0225_gp1/\")"
   ]
  },
  {
   "cell_type": "code",
   "execution_count": null,
   "metadata": {
    "pycharm": {
     "is_executing": false
    }
   },
   "outputs": [],
   "source": [
    "%load_ext autoreload\n",
    "%aimport smooth.datasets\n",
    "%aimport smooth.model\n",
    "%aimport smooth.analysis\n",
    "%aimport smooth.callbacks\n",
    "%aimport smooth.measures\n",
    "%aimport smooth.util\n",
    "%autoreload 1"
   ]
  },
  {
   "cell_type": "code",
   "execution_count": null,
   "metadata": {},
   "outputs": [],
   "source": [
    "ms = pd.read_feather(\"measures.feather\")\n",
    "smooth.analysis.remove_constant_columns(ms)\n",
    "ms = smooth.analysis.expand_dataset_columns(ms)\n",
    "ms[\"log_dir\"] = ms[\"log_dir\"].str.split(\"/\").str.get(-1)\n",
    "ms.head()\n",
    "\n",
    "print(\"Total models:\", len(ms))\n",
    "print(\"Well-fit models for each lengthscale:\")\n",
    "for lengthscale in [1.0, 0.3, 0.1]:\n",
    "    print(\"    {}: {}\".format(\n",
    "        lengthscale,\n",
    "        len(ms[\"train_loss\"][(ms[\"train_loss\"] < 0.01) & (ms[\"lengthscale\"] == lengthscale)])\n",
    "    ))\n",
    "# Only take models which are well-fit (otherwise it's easy to be smooth)\n",
    "# ms = ms[ms[\"test_loss\"] < 0.01]\n",
    "# ms[\"test_loss\"][ms[\"test_loss\"] < 0.01]"
   ]
  },
  {
   "cell_type": "markdown",
   "metadata": {},
   "source": [
    "The models are unable to fit GPs with a lengthscale of 0.1."
   ]
  },
  {
   "cell_type": "code",
   "execution_count": null,
   "metadata": {},
   "outputs": [],
   "source": [
    "for col in [\"actual_epochs\", \"train_loss\", \"test_loss\"]:\n",
    "    if ms[col].dtype == \"object\":\n",
    "        continue\n",
    "    plt.hist(ms[col], bins=20)\n",
    "    plt.title(col)\n",
    "    plt.show()"
   ]
  },
  {
   "cell_type": "code",
   "execution_count": null,
   "metadata": {},
   "outputs": [],
   "source": [
    "msi_train = smooth.analysis.get_interpolation_measures(ms[\"dataset\"].unique())\n",
    "msi_test = smooth.analysis.get_interpolation_measures(ms[\"dataset\"].unique(), use_test_set=True)\n",
    "msi_poly = smooth.analysis.get_interpolation_measures(ms[\"dataset\"].unique(), use_polynomial=True)"
   ]
  },
  {
   "cell_type": "code",
   "execution_count": null,
   "metadata": {},
   "outputs": [],
   "source": [
    "def plot_dataset(data_sources, seed, lengthscale, measure):\n",
    "    ms_all = None\n",
    "    for name, ms_cur in data_sources.items():\n",
    "        ms1 = ms_cur[(ms_cur[\"seed\"] == seed) & (ms_cur[\"lengthscale\"] == lengthscale)]\n",
    "        ms1 = ms1.sort_values(\"samples_train\")\n",
    "        train_set_sizes = ms1[\"samples_train\"].unique()\n",
    "        train_set_sizes.sort()\n",
    "        ms1[\"name\"] = name\n",
    "        \n",
    "        if ms_all is None:\n",
    "            ms_all = ms1\n",
    "        else:\n",
    "            ms_all = pd.concat([ms_all, ms1], sort=False)\n",
    "\n",
    "    g = sns.relplot(\n",
    "        x=\"samples_train\", y=measure, kind=\"line\",\n",
    "        hue=\"name\", data=ms_all,\n",
    "    )\n",
    "    g.fig.suptitle(\"seed={}, lengthscale={}\".format(seed, lengthscale))\n",
    "\n",
    "data_sources = {\n",
    "    \"relu1000\": ms[ms[\"hidden_size\"] == 1000],\n",
    "    \"relu100\": ms[ms[\"hidden_size\"] == 100],\n",
    "    \"train\": msi_train,\n",
    "    \"test\": msi_test,\n",
    "#     \"poly\": msi_poly,\n",
    "}"
   ]
  },
  {
   "cell_type": "code",
   "execution_count": null,
   "metadata": {},
   "outputs": [],
   "source": [
    "for seed in range(1, 5):\n",
    "    plot_dataset(seed=seed, lengthscale=0.3, data_sources=data_sources, measure=\"seg_total_variation\")\n",
    "    plot_dataset(seed=seed, lengthscale=0.3, data_sources=data_sources, measure=\"seg_total_variation_derivative\")"
   ]
  },
  {
   "cell_type": "code",
   "execution_count": null,
   "metadata": {
    "pycharm": {
     "name": "#%%\n"
    }
   },
   "outputs": [],
   "source": [
    "def plot_dataset_predictions(seed, lengthscale):\n",
    "    ms1 = ms[(ms[\"seed\"] == seed) & (ms[\"lengthscale\"] == lengthscale)]\n",
    "    dataset = smooth.datasets.GaussianProcessDataset.from_name(ms1.iloc[0][\"dataset\"])\n",
    "    x = dataset.x_test\n",
    "\n",
    "    ax = plt.subplot()\n",
    "    ax.plot(x, dataset.y_test, color=\"C0\")\n",
    "    plt.title(\"seed={}, lengthscale={}\".format(seed, lengthscale))\n",
    "#     ax.scatter(dataset.x_train, dataset.y_train, color=\"C0\")\n",
    "\n",
    "    for i, row in list(ms1.iterrows()):\n",
    "        log_dir = row[\"log_dir\"]\n",
    "        model = tf.keras.models.load_model(os.path.join(log_dir, \"model.h5\"))\n",
    "        y = model.predict(x)\n",
    "        color = {\n",
    "            100: \"C1\",\n",
    "            1000: \"C2\",\n",
    "        }[row[\"hidden_size\"]]\n",
    "        color=\"C1\"\n",
    "        ax.plot(x, y, alpha=1/len(ms1), color=color)\n",
    "    \n",
    "    plt.show()\n",
    "\n",
    "\n",
    "for lengthscale in [1.0, 0.3, 0.1]:\n",
    "    for seed in range(1, 3):\n",
    "        plot_dataset_predictions(seed, lengthscale)"
   ]
  },
  {
   "cell_type": "code",
   "execution_count": null,
   "metadata": {},
   "outputs": [],
   "source": []
  },
  {
   "cell_type": "code",
   "execution_count": null,
   "metadata": {},
   "outputs": [],
   "source": [
    "%%time\n",
    "_dataset = smooth.datasets.GaussianProcessDataset(samples_train=100, lengthscale=0.3, seed=123, dim=100)"
   ]
  },
  {
   "cell_type": "code",
   "execution_count": null,
   "metadata": {},
   "outputs": [],
   "source": [
    "import GPy\n",
    "\n",
    "dim = 2\n",
    "gp_model = GPy.models.GPRegression(\n",
    "    # It seems the constructor needs at least 1 data point.\n",
    "    np.array([[0] * dim]),\n",
    "    np.array([[0]]),\n",
    "    noise_var=0.001,\n",
    ")\n",
    "gp_model.kern.lengthscale = 0.3\n",
    "samples_test = 100\n",
    "x_test = np.random.randn(samples_test, dim)\n",
    "y_test = gp_model.posterior_samples_f(x_test, size=1)[:, :, 0]\n",
    "gp_model.set_XY(x_test, y_test)\n",
    "samples_train = 10\n",
    "indices = smooth.util.subsample_regularly(samples_test, samples_train)\n",
    "x_train = x_test[indices]\n",
    "y_train = gp_model.posterior_samples_f(x_train, size=1)[:, :, 0]\n",
    "y_train"
   ]
  },
  {
   "cell_type": "code",
   "execution_count": null,
   "metadata": {},
   "outputs": [],
   "source": []
  }
 ],
 "metadata": {
  "kernelspec": {
   "display_name": "tf2",
   "language": "python",
   "name": "tf2"
  },
  "language_info": {
   "codemirror_mode": {
    "name": "ipython",
    "version": 3
   },
   "file_extension": ".py",
   "mimetype": "text/x-python",
   "name": "python",
   "nbconvert_exporter": "python",
   "pygments_lexer": "ipython3",
   "version": "3.5.3"
  },
  "pycharm": {
   "stem_cell": {
    "cell_type": "raw",
    "metadata": {
     "collapsed": false
    },
    "source": []
   }
  }
 },
 "nbformat": 4,
 "nbformat_minor": 4
}
