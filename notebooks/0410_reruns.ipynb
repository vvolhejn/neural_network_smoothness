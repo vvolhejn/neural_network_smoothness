{
 "cells": [
  {
   "cell_type": "code",
   "execution_count": null,
   "metadata": {},
   "outputs": [],
   "source": [
    "import os\n",
    "import sys\n",
    "# If we don't need CUDA, do this before importing TF\n",
    "os.environ[\"CUDA_VISIBLE_DEVICES\"] = \"-1\"\n",
    "import tensorflow as tf\n",
    "import numpy as np\n",
    "import pandas as pd\n",
    "import tqdm\n",
    "import tqdm.notebook\n",
    "import matplotlib.pyplot as plt\n",
    "import seaborn as sns\n",
    "import IPython\n",
    "sns.set()\n",
    "\n",
    "os.chdir(\"/nfs/scistore12/chlgrp/vvolhejn/smooth/logs/\")"
   ]
  },
  {
   "cell_type": "code",
   "execution_count": null,
   "metadata": {},
   "outputs": [],
   "source": [
    "%load_ext autoreload\n",
    "%aimport smooth.config\n",
    "%aimport smooth.datasets\n",
    "%aimport smooth.model\n",
    "%aimport smooth.analysis\n",
    "%aimport smooth.callbacks\n",
    "%aimport smooth.measures\n",
    "%aimport smooth.util\n",
    "%autoreload 1"
   ]
  },
  {
   "cell_type": "code",
   "execution_count": null,
   "metadata": {},
   "outputs": [],
   "source": [
    "def should_plot_as_log(measure_name):\n",
    "    patterns = [\n",
    "        \"loss\",\n",
    "#         \"weights_product\",\n",
    "    ]\n",
    "    \n",
    "    for p in patterns:\n",
    "        if p in measure_name:\n",
    "            return True\n",
    "    \n",
    "    return False\n",
    "\n",
    "def plot_measure(ms, measure_name, groupby, xlabel=None):\n",
    "    ms = ms.copy()\n",
    "    if should_plot_as_log(measure_name):\n",
    "        log_measure_name = \"log10_{}\".format(measure_name)\n",
    "        ms[log_measure_name] = np.log10(ms[measure_name])\n",
    "        measure_name = log_measure_name\n",
    "\n",
    "    sns.boxplot(data=ms, x=measure_name, y=groupby, orient=\"h\")\n",
    "    swarm_plot = sns.swarmplot(data=ms, x=measure_name, y=groupby,\n",
    "                      size=2, color=\".3\", linewidth=0, orient=\"h\",\n",
    "                 )\n",
    "    \n",
    "    if xlabel:\n",
    "        swarm_plot.set(xlabel=xlabel)\n",
    "    \n",
    "    return swarm_plot.get_figure()\n",
    "\n",
    "def plot_all_measures(ms, groupby=\"kind\"):\n",
    "    for g_id, g in ms.groupby(groupby):\n",
    "        print(g_id, g.count().iloc[0])\n",
    "\n",
    "    for measure in [\n",
    "                \"loss_train\", \"loss_test\",\n",
    "                \"gradient_norm_test\",\n",
    "                \"gradient_norm_squared_test\",\n",
    "                \"weights_product\",\n",
    "                \"path_length_f_test\",\n",
    "                \"path_length_d_test\",\n",
    "                \"actual_epochs\",\n",
    "            ]:\n",
    "        plot_measure(ms, measure, groupby)\n",
    "        plt.show()"
   ]
  },
  {
   "cell_type": "code",
   "execution_count": null,
   "metadata": {},
   "outputs": [],
   "source": [
    "ms = smooth.analysis.load_measures(\n",
    "    \"./0410_gradient_reg/measures.feather\",\n",
    "    kind_cols=[\n",
    "        (\"model.learning_rate\", \"lr\"),\n",
    "        (\"model.gradient_norm_reg_coef\", \"gn\"),\n",
    "    ],\n",
    ")\n",
    "\n",
    "plot_all_measures(ms)"
   ]
  },
  {
   "cell_type": "code",
   "execution_count": null,
   "metadata": {},
   "outputs": [],
   "source": [
    "ms1 = ms[ms[\"model.learning_rate\"] == 0.01].copy()\n",
    "ms1[\"Regularization coef\"] = ms1[\"model.gradient_norm_reg_coef\"]\n",
    "\n",
    "ms1 = smooth.analysis.get_ratios(ms1, ms1[\"model.gradient_norm_reg_coef\"] == 0, \"gradient_norm_test\")\n",
    "\n",
    "fig1 = plot_measure(ms1, \"gradient_norm_test\", groupby=\"Regularization coef\", xlabel=\"Gradient norm\")\n",
    "fig1.show()\n",
    "fig1.savefig(\"../figures/teatalk_gradient_norm.png\", bbox_inches=\"tight\")\n",
    "# plot_all_measures(ms1, \"Regularization coef\")"
   ]
  },
  {
   "cell_type": "code",
   "execution_count": null,
   "metadata": {},
   "outputs": [],
   "source": [
    "fig2 = plot_measure(ms1, \"gradient_norm_test_normed\",\n",
    "                    groupby=\"Regularization coef\", xlabel=\"Gradient norm - normalized\")\n",
    "fig2.show()\n",
    "fig2.savefig(\"../figures/teatalk_gradient_norm_normalized.png\", bbox_inches=\"tight\")"
   ]
  },
  {
   "cell_type": "code",
   "execution_count": null,
   "metadata": {},
   "outputs": [],
   "source": [
    "ms = smooth.analysis.load_measures(\n",
    "    \"./0410_pca/measures.feather\",\n",
    "    kind_cols=[\n",
    "        (\"model.learning_rate\", \"lr\"),\n",
    "        (\"model.pca_dims\", \"pca\"),\n",
    "    ],\n",
    ")\n",
    "ms = ms[ms[\"model.pca_dims\"] != 49]\n",
    "plot_all_measures(ms)"
   ]
  },
  {
   "cell_type": "code",
   "execution_count": null,
   "metadata": {},
   "outputs": [],
   "source": [
    "ms = smooth.analysis.load_measures(\n",
    "    \"./0412_weights_product_reg/measures.feather\",\n",
    "    kind_cols=[\n",
    "        (\"model.learning_rate\", \"lr\"),\n",
    "        (\"model.weights_product_reg_coef\", \"wp\"),\n",
    "    ],\n",
    ")\n",
    "ms = ms[ms[\"model.weights_product_reg_coef\"] < 1e-4]\n",
    "\n",
    "ms1 = smooth.analysis.load_measures(\n",
    "    \"./0413_weights_product_reg/measures.feather\",\n",
    "    kind_cols=[\n",
    "        (\"model.learning_rate\", \"lr\"),\n",
    "        (\"model.weights_product_reg_coef\", \"wp\"),\n",
    "    ],\n",
    ")\n",
    "ms = pd.concat([ms, ms1], sort=False)\n",
    "ms = ms.sort_values([\"model.learning_rate\", \"model.weights_product_reg_coef\"])\n",
    "\n",
    "# ms = ms.reset_index(drop=True)\n",
    "# ms.to_feather(\"0413_weights_product_reg/measures_both.feather\")\n",
    "# plot_all_measures(ms)"
   ]
  },
  {
   "cell_type": "code",
   "execution_count": null,
   "metadata": {},
   "outputs": [],
   "source": [
    "ms1 = ms[ms[\"model.learning_rate\"] == 0.01].copy()\n",
    "\n",
    "ms1 = ms1[ms1[\"dataset.name\"].isin(\n",
    "    set(ms1.loc[ms1[\"model.weights_product_reg_coef\"] == 3e-5, \"dataset.name\"])\n",
    ")]\n",
    "\n",
    "ms1 = smooth.analysis.get_ratios(ms1, ms1[\"model.weights_product_reg_coef\"] == 0, \"weights_product\")\n",
    "\n",
    "ms1[\"Regularization coef\"] = ms1[\"model.weights_product_reg_coef\"].map(str)\n",
    "\n",
    "fig = plot_measure(\n",
    "    ms1,\n",
    "    \"weights_product\",\n",
    "    groupby=\"Regularization coef\",\n",
    "    xlabel=\"Weights product\",\n",
    ")\n",
    "fig.show()\n",
    "# ax.set(xlabel='common xlabel', ylabel='common ylabel')\n",
    "# fig.savefig(\"../figures/teatalk_weights_product.png\", bbox_inches=\"tight\")\n",
    "# plot_all_measures(ms1, \"Regularization coef\")"
   ]
  },
  {
   "cell_type": "code",
   "execution_count": null,
   "metadata": {},
   "outputs": [],
   "source": [
    "fig = plot_measure(\n",
    "    ms1,\n",
    "    \"weights_product_normed\",\n",
    "    groupby=\"Regularization coef\",\n",
    "    xlabel=\"Weights product - normed\",\n",
    ")\n",
    "fig.show()\n",
    "fig.savefig(\"../figures/teatalk_weights_product_normalized.png\", bbox_inches=\"tight\")"
   ]
  },
  {
   "cell_type": "code",
   "execution_count": null,
   "metadata": {},
   "outputs": [],
   "source": []
  },
  {
   "cell_type": "code",
   "execution_count": null,
   "metadata": {},
   "outputs": [],
   "source": [
    "ms = smooth.analysis.load_measures(\n",
    "    \"./0514_gradient_squared_reg/measures.feather\",\n",
    "    kind_cols=[\n",
    "#         (\"model.learning_rate\", \"lr\"),\n",
    "        (\"model.gradient_norm_squared_reg_coef\", \"gn\"),\n",
    "    ],\n",
    ")\n",
    "\n",
    "plot_all_measures(ms)"
   ]
  },
  {
   "cell_type": "code",
   "execution_count": null,
   "metadata": {},
   "outputs": [],
   "source": [
    "ms[\"foo\"] = ms[\"gradient_norm_squared_test\"] ** 0.5 / ms[\"gradient_norm_test\"]"
   ]
  },
  {
   "cell_type": "code",
   "execution_count": null,
   "metadata": {},
   "outputs": [],
   "source": [
    "plot_measure(ms, \"foo\", \"kind\")"
   ]
  },
  {
   "cell_type": "code",
   "execution_count": null,
   "metadata": {},
   "outputs": [],
   "source": [
    "ms = load_measures(\n",
    "    \"./0413-211129/measures.feather\",\n",
    "    kind_cols=[\n",
    "        (\"model.learning_rate\", \"lr\"),\n",
    "        (\"model.weights_product_reg_coef\", \"wp\"),\n",
    "    ],\n",
    ")\n",
    "plot_all_measures(ms)"
   ]
  },
  {
   "cell_type": "code",
   "execution_count": null,
   "metadata": {},
   "outputs": [],
   "source": [
    "dataset = smooth.datasets.from_params(\"mnist12\")"
   ]
  },
  {
   "cell_type": "code",
   "execution_count": null,
   "metadata": {},
   "outputs": [],
   "source": [
    "model = smooth.model.train_shallow(\n",
    "    dataset,\n",
    "    learning_rate=0.01,\n",
    "    init_scale=0.01,\n",
    "    hidden_size=256,\n",
    "    epochs=100,\n",
    "    batch_size=64,\n",
    "    verbose=1,\n",
    "    weights_product_reg_coef=1,\n",
    ")"
   ]
  },
  {
   "cell_type": "code",
   "execution_count": null,
   "metadata": {},
   "outputs": [],
   "source": [
    "model = smooth.model.train_shallow(\n",
    "    dataset,\n",
    "    learning_rate=0.01,\n",
    "    init_scale=0.01,\n",
    "    hidden_size=256,\n",
    "    epochs=100,\n",
    "    batch_size=64,\n",
    "    verbose=1,\n",
    "    gradient_norm_reg_coef=1e-2,\n",
    "    error_threshold=0.06,\n",
    ")"
   ]
  },
  {
   "cell_type": "code",
   "execution_count": null,
   "metadata": {},
   "outputs": [],
   "source": [
    "layer = tf.keras.layers.Dense(1, weights=[np.array([[2], [1]]), np.array([0])])"
   ]
  },
  {
   "cell_type": "code",
   "execution_count": null,
   "metadata": {},
   "outputs": [],
   "source": [
    "layer(np.array([[3, 4]]))"
   ]
  },
  {
   "cell_type": "code",
   "execution_count": null,
   "metadata": {},
   "outputs": [],
   "source": [
    "smooth.measures.gradient_norm(layer, np.array([[3., 4.]], dtype=np.float32))"
   ]
  },
  {
   "cell_type": "code",
   "execution_count": null,
   "metadata": {},
   "outputs": [],
   "source": []
  }
 ],
 "metadata": {
  "kernelspec": {
   "display_name": "tf2",
   "language": "python",
   "name": "tf2"
  },
  "language_info": {
   "codemirror_mode": {
    "name": "ipython",
    "version": 3
   },
   "file_extension": ".py",
   "mimetype": "text/x-python",
   "name": "python",
   "nbconvert_exporter": "python",
   "pygments_lexer": "ipython3",
   "version": "3.5.3"
  }
 },
 "nbformat": 4,
 "nbformat_minor": 4
}
