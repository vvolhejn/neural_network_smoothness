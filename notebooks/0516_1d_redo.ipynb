{
 "cells": [
  {
   "cell_type": "markdown",
   "metadata": {},
   "source": [
    "# One-dimensional case"
   ]
  },
  {
   "cell_type": "code",
   "execution_count": null,
   "metadata": {},
   "outputs": [],
   "source": [
    "import os\n",
    "import sys\n",
    "# If we don't need CUDA, do this before importing TF\n",
    "os.environ[\"CUDA_VISIBLE_DEVICES\"] = \"-1\"\n",
    "import tensorflow as tf\n",
    "import numpy as np\n",
    "import pandas as pd\n",
    "import tqdm\n",
    "import tqdm.notebook\n",
    "import matplotlib.pyplot as plt\n",
    "import seaborn as sns\n",
    "import IPython\n",
    "import scipy.stats\n",
    "sns.set()\n",
    "\n",
    "os.chdir(\"/nfs/scistore12/chlgrp/vvolhejn/smooth/logs/\")"
   ]
  },
  {
   "cell_type": "code",
   "execution_count": null,
   "metadata": {},
   "outputs": [],
   "source": [
    "%load_ext autoreload\n",
    "%aimport smooth.datasets\n",
    "%aimport smooth.model\n",
    "%aimport smooth.analysis\n",
    "%aimport smooth.callbacks\n",
    "%aimport smooth.measures\n",
    "%aimport smooth.util\n",
    "%autoreload 1"
   ]
  },
  {
   "cell_type": "code",
   "execution_count": null,
   "metadata": {},
   "outputs": [],
   "source": [
    "dataset = smooth.datasets.GaussianProcessDataset(samples_train=10, lengthscale=1., noise_var=0.0, seed=1)"
   ]
  },
  {
   "cell_type": "code",
   "execution_count": null,
   "metadata": {},
   "outputs": [],
   "source": [
    "model = smooth.model.train_shallow(\n",
    "    dataset,\n",
    "    learning_rate=0.01,\n",
    "    init_scale=0.01,\n",
    "    epochs=100000,\n",
    "    verbose=0,\n",
    "    batch_size=64,\n",
    ")"
   ]
  },
  {
   "cell_type": "code",
   "execution_count": null,
   "metadata": {},
   "outputs": [],
   "source": [
    "smooth.analysis.plot_shallow(model, dataset)"
   ]
  },
  {
   "cell_type": "code",
   "execution_count": null,
   "metadata": {},
   "outputs": [],
   "source": [
    "smooth.measures.get_measures(model, dataset, precise_in_1d=False)"
   ]
  },
  {
   "cell_type": "code",
   "execution_count": null,
   "metadata": {},
   "outputs": [],
   "source": [
    "def plot_measure(ms, measure_name, y_log=False):\n",
    "    grid = sns.relplot(\n",
    "        data=ms,\n",
    "        x=\"dataset.samples_train\",\n",
    "        y=measure_name,\n",
    "        kind=\"line\",\n",
    "        hue=\"dataset.seed\",\n",
    "    )\n",
    "\n",
    "    ax = grid.axes[0][0]\n",
    "#     ax.set_xscale(\"log\")\n",
    "    \n",
    "    if y_log:\n",
    "        ax.set_yscale(\"log\")\n",
    "\n",
    "    plt.show()\n",
    "    \n",
    "\n",
    "def plot_measures(ms):\n",
    "    for measure in [\n",
    "        \"loss_train\", \"loss_test\",\n",
    "    #     \"gradient_norm_train\",\n",
    "        \"gradient_norm_test\",\n",
    "        \"weights_product\",\n",
    "        \"path_length_f_test\",\n",
    "        \"path_length_d_test\",\n",
    "    ]:\n",
    "        y_log = False\n",
    "        if \"loss\" in measure:\n",
    "            y_log = True\n",
    "\n",
    "        plot_measure(ms, measure, y_log)"
   ]
  },
  {
   "cell_type": "code",
   "execution_count": null,
   "metadata": {},
   "outputs": [],
   "source": [
    "# def get_kendall(ms, col_1, col_2, get_pvalues=False):\n",
    "#     tau = scipy.stats.kendalltau(ms[col_1], ms[col_2])\n",
    "\n",
    "#     if get_pvalues:\n",
    "#         return tau.pvalue\n",
    "#     else:\n",
    "#         return tau.correlation\n",
    "\n",
    "# def get_kendalls(ms, col_1, cols, get_pvalues=False):\n",
    "#     res = [\n",
    "#         get_kendall(ms, col_1, col, get_pvalues)\n",
    "#         for col in cols\n",
    "#     ]\n",
    "#     return pd.Series(res, index=cols)\n",
    "\n",
    "# measures = [\"gradient_norm_test\", \"path_length_f_test\", \"path_length_d_test\", \"weights_product\"]\n",
    "\n",
    "# def summarize_kendalls(ms, get_pvalues=False):\n",
    "#     return ms.groupby(\"dataset.seed\").apply(\n",
    "#         lambda df: get_kendalls(df, \"dataset.samples_train\", measures, get_pvalues)\n",
    "#     ).describe()"
   ]
  },
  {
   "cell_type": "code",
   "execution_count": null,
   "metadata": {},
   "outputs": [],
   "source": [
    "ms = smooth.analysis.load_measures(\n",
    "    \"./0516_gp_1d/measures.feather\",\n",
    "    kind_cols=[\n",
    "        (\"dataset.seed\", \"seed\"),\n",
    "        (\"dataset.samples_train\", \"samples\"),\n",
    "    ],\n",
    "    remove_unconverged=False,\n",
    ")\n",
    "\n",
    "smooth.analysis.summarize_kendalls(\n",
    "    ms,\n",
    "    groupby=\"dataset.seed\",\n",
    "    x_col=\"dataset.samples_train\",\n",
    "    y_cols=smooth.analysis.get_measure_names(),\n",
    "    get_pvalues=True,\n",
    ")"
   ]
  },
  {
   "cell_type": "code",
   "execution_count": null,
   "metadata": {},
   "outputs": [],
   "source": [
    "ms = smooth.analysis.load_measures(\n",
    "    \"./0517_gp_1d_no_loss_threshold/measures.feather\",\n",
    "    kind_cols=[\n",
    "        (\"dataset.seed\", \"seed\"),\n",
    "        (\"dataset.samples_train\", \"samples\"),\n",
    "    ],\n",
    "    remove_unconverged=False,\n",
    ")\n",
    "smooth.analysis.summarize_kendalls(\n",
    "    ms,\n",
    "    groupby=\"dataset.seed\",\n",
    "    x_col=\"dataset.samples_train\",\n",
    "    y_cols=smooth.analysis.get_measure_names(),\n",
    "    get_pvalues=True,\n",
    ")"
   ]
  },
  {
   "cell_type": "code",
   "execution_count": null,
   "metadata": {},
   "outputs": [],
   "source": [
    "ms = smooth.analysis.load_measures(\n",
    "    \"./0517_gp_1d_lr_0.1/measures.feather\",\n",
    "    kind_cols=[\n",
    "        (\"dataset.seed\", \"seed\"),\n",
    "        (\"dataset.samples_train\", \"samples\"),\n",
    "    ],\n",
    "    remove_unconverged=False,\n",
    ")\n",
    "smooth.analysis.summarize_kendalls(\n",
    "    ms,\n",
    "    groupby=\"dataset.seed\",\n",
    "    x_col=\"dataset.samples_train\",\n",
    "    y_cols=smooth.analysis.get_measure_names(),\n",
    "    get_pvalues=True,\n",
    ")"
   ]
  },
  {
   "cell_type": "code",
   "execution_count": null,
   "metadata": {},
   "outputs": [],
   "source": [
    "ms = smooth.analysis.load_measures(\n",
    "    \"./0517_gp_1d_100k_epochs/measures.feather\",\n",
    "    kind_cols=[\n",
    "        (\"dataset.seed\", \"seed\"),\n",
    "        (\"dataset.samples_train\", \"samples\"),\n",
    "    ],\n",
    "    remove_unconverged=False,\n",
    ")\n",
    "smooth.analysis.summarize_kendalls(\n",
    "    ms,\n",
    "    groupby=\"dataset.seed\",\n",
    "    x_col=\"dataset.samples_train\",\n",
    "    y_cols=smooth.analysis.get_measure_names(),\n",
    "    get_pvalues=True,\n",
    ")"
   ]
  },
  {
   "cell_type": "code",
   "execution_count": null,
   "metadata": {},
   "outputs": [],
   "source": [
    "ms = smooth.analysis.load_measures(\n",
    "    \"./0517_gp_1d_big/measures.feather\",\n",
    "    kind_cols=[\n",
    "        (\"dataset.seed\", \"seed\"),\n",
    "        (\"dataset.samples_train\", \"samples\"),\n",
    "    ],\n",
    "    remove_unconverged=False,\n",
    ")\n",
    "smooth.analysis.summarize_kendalls(\n",
    "    ms,\n",
    "    groupby=\"dataset.seed\",\n",
    "    x_col=\"dataset.samples_train\",\n",
    "    y_cols=smooth.analysis.get_measure_names(),\n",
    "    get_pvalues=True,\n",
    ").describe()"
   ]
  },
  {
   "cell_type": "code",
   "execution_count": null,
   "metadata": {},
   "outputs": [],
   "source": [
    "# plot_measures(ms)"
   ]
  },
  {
   "cell_type": "code",
   "execution_count": null,
   "metadata": {},
   "outputs": [],
   "source": [
    "measures = [\"gradient_norm_test\", \"path_length_f_test\", \"path_length_d_test\", \"weights_product\"]\n",
    "ms.groupby(\"dataset.seed\").apply(\n",
    "    lambda df: get_kendalls(df, \"dataset.samples_train\", measures)\n",
    ").describe()"
   ]
  },
  {
   "cell_type": "code",
   "execution_count": null,
   "metadata": {},
   "outputs": [],
   "source": [
    "ms = smooth.analysis.load_measures(\n",
    "    \"./0518_gp_1d_lengthscale_0.5/measures.feather\",\n",
    "    kind_cols=[\n",
    "        (\"dataset.seed\", \"seed\"),\n",
    "        (\"dataset.samples_train\", \"samples\"),\n",
    "    ],\n",
    "    remove_unconverged=False,\n",
    ")\n",
    "smooth.analysis.summarize_kendalls(ms, get_pvalues=True)"
   ]
  },
  {
   "cell_type": "code",
   "execution_count": null,
   "metadata": {},
   "outputs": [],
   "source": [
    "plot_measures(ms)"
   ]
  },
  {
   "cell_type": "code",
   "execution_count": null,
   "metadata": {},
   "outputs": [],
   "source": [
    "ms = smooth.analysis.load_measures(\n",
    "    \"./0519_gp_1d/measures.feather\",\n",
    "    kind_cols=[\n",
    "        (\"dataset.seed\", \"seed\"),\n",
    "        (\"dataset.samples_train\", \"samples\"),\n",
    "    ],\n",
    "    remove_unconverged=True,\n",
    ")\n",
    "# This one is used in the thesis\n",
    "taus = smooth.analysis.summarize_kendalls(\n",
    "    ms,\n",
    "    groupby=\"dataset.seed\",\n",
    "    x_col=\"dataset.samples_train\",\n",
    "    y_cols=smooth.analysis.get_measure_names(),\n",
    "    get_pvalues=False,\n",
    ").describe()"
   ]
  },
  {
   "cell_type": "code",
   "execution_count": null,
   "metadata": {},
   "outputs": [],
   "source": [
    "len(ms[ms[\"loss_train\"] < 0.1])"
   ]
  },
  {
   "cell_type": "code",
   "execution_count": null,
   "metadata": {},
   "outputs": [],
   "source": [
    "ms.sort_values(\"loss_train\")[\"loss_train\"]"
   ]
  },
  {
   "cell_type": "code",
   "execution_count": null,
   "metadata": {},
   "outputs": [],
   "source": [
    "taus"
   ]
  },
  {
   "cell_type": "code",
   "execution_count": null,
   "metadata": {},
   "outputs": [],
   "source": []
  },
  {
   "cell_type": "code",
   "execution_count": null,
   "metadata": {},
   "outputs": [],
   "source": []
  },
  {
   "cell_type": "code",
   "execution_count": null,
   "metadata": {},
   "outputs": [],
   "source": [
    "plot_measures(ms)"
   ]
  },
  {
   "cell_type": "markdown",
   "metadata": {},
   "source": [
    "## Polynomials"
   ]
  },
  {
   "cell_type": "code",
   "execution_count": null,
   "metadata": {},
   "outputs": [],
   "source": [
    "ms_poly = pd.read_feather(\"0519_gp_1d/measures_polynomials.feather\")\n",
    "return\n",
    "\n",
    "ms_poly = pd.DataFrame(\n",
    "    columns=[\n",
    "        \"dataset.seed\",\n",
    "        \"dataset.samples_train\",\n",
    "        \"weights_product\"\n",
    "    ],\n",
    ")\n",
    "\n",
    "\n",
    "for seed in tqdm.tqdm_notebook(range(1, 21)):\n",
    "    for n_samples in tqdm.tqdm_notebook(range(2, 11), leave=False):\n",
    "        dataset = smooth.datasets.GaussianProcessDataset(samples_train=n_samples, lengthscale=0.5, seed=seed)\n",
    "        model = smooth.model.interpolate_polynomial(dataset)\n",
    "    #     smooth.analysis.plot_shallow(model, dataset)\n",
    "        row = smooth.measures.get_measures(model, dataset, samples=1000)\n",
    "        row[\"dataset.seed\"] = seed\n",
    "        row[\"dataset.samples_train\"] = n_samples\n",
    "        ms_poly = ms_poly.append(row, ignore_index=True)\n"
   ]
  },
  {
   "cell_type": "code",
   "execution_count": null,
   "metadata": {},
   "outputs": [],
   "source": [
    "\n",
    "taus = smooth.analysis.summarize_kendalls(\n",
    "    ms_poly,\n",
    "    groupby=\"dataset.seed\",\n",
    "    x_col=\"dataset.samples_train\",\n",
    "    y_cols=smooth.analysis.get_measure_names(),\n",
    "    get_pvalues=False,\n",
    ").describe()"
   ]
  },
  {
   "cell_type": "code",
   "execution_count": null,
   "metadata": {},
   "outputs": [],
   "source": [
    "# ms_poly.to_feather(\"0519_gp_1d/measures_polynomials.feather\")"
   ]
  },
  {
   "cell_type": "code",
   "execution_count": null,
   "metadata": {},
   "outputs": [],
   "source": [
    "def format_for_table(ms):\n",
    "    measures = [\n",
    "        (\"gradient_norm_test\", \"GN\"),\n",
    "        (\"path_length_f_test\", \"PL_0\"),\n",
    "        (\"path_length_d_test\", \"PL_1\"),\n",
    "        (\"weights_product\", \"WP\"),\n",
    "    ]\n",
    "    \n",
    "    for measure_col, measure_tex in measures:\n",
    "        measure_tex = \"${}$\".format(measure_tex)\n",
    "        print(\"{} & ${:.2f} \\pm {:.2f}$\".format(\n",
    "            measure_tex.ljust(10),\n",
    "            ms.loc[\"mean\", measure_col],\n",
    "            ms.loc[\"std\", measure_col]\n",
    "        ))\n",
    "\n",
    "format_for_table(taus)"
   ]
  },
  {
   "cell_type": "code",
   "execution_count": null,
   "metadata": {},
   "outputs": [],
   "source": [
    "$GN$       & $0.30 \\pm 0.18$\n",
    "$PL_0$     & $0.49 \\pm 0.16$\n",
    "$PL_1$     & $0.59 \\pm 0.13$\n",
    "$WP$       & $0.38 \\pm 0.15$"
   ]
  },
  {
   "cell_type": "code",
   "execution_count": null,
   "metadata": {},
   "outputs": [],
   "source": [
    "$GN$       & $0.32 \\pm 0.16$\n",
    "$PL_0$     & $0.48 \\pm 0.16$\n",
    "$PL_1$     & $0.46 \\pm 0.11$\n",
    "$WP$       & $0.16 \\pm 0.21$"
   ]
  },
  {
   "cell_type": "code",
   "execution_count": null,
   "metadata": {},
   "outputs": [],
   "source": [
    "taus = smooth.analysis.summarize_kendalls(\n",
    "    ms_poly,\n",
    "    groupby=\"dataset.seed\",\n",
    "    x_col=\"dataset.samples_train\",\n",
    "    y_cols=smooth.analysis.get_measure_names(),\n",
    "    get_pvalues=False,\n",
    ")\n",
    "# .describe()\n",
    "taus.describe()"
   ]
  },
  {
   "cell_type": "code",
   "execution_count": null,
   "metadata": {},
   "outputs": [],
   "source": [
    "(ms_poly.groupby(\"dataset.seed\")\n",
    "    .apply(lambda df: smooth.analysis.get_kendalls(\n",
    "        df,\n",
    "        \"dataset.samples_train\",\n",
    "        smooth.analysis.get_measure_names(),\n",
    "        False,\n",
    "    )))"
   ]
  },
  {
   "cell_type": "code",
   "execution_count": null,
   "metadata": {},
   "outputs": [],
   "source": [
    "ms_poly"
   ]
  },
  {
   "cell_type": "code",
   "execution_count": null,
   "metadata": {},
   "outputs": [],
   "source": [
    "ms_poly"
   ]
  },
  {
   "cell_type": "code",
   "execution_count": null,
   "metadata": {},
   "outputs": [],
   "source": []
  },
  {
   "cell_type": "code",
   "execution_count": null,
   "metadata": {},
   "outputs": [],
   "source": []
  },
  {
   "cell_type": "code",
   "execution_count": null,
   "metadata": {},
   "outputs": [],
   "source": []
  }
 ],
 "metadata": {
  "kernelspec": {
   "display_name": "tf2",
   "language": "python",
   "name": "tf2"
  },
  "language_info": {
   "codemirror_mode": {
    "name": "ipython",
    "version": 3
   },
   "file_extension": ".py",
   "mimetype": "text/x-python",
   "name": "python",
   "nbconvert_exporter": "python",
   "pygments_lexer": "ipython3",
   "version": "3.5.3"
  }
 },
 "nbformat": 4,
 "nbformat_minor": 4
}
