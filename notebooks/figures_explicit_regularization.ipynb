{
 "cells": [
  {
   "cell_type": "code",
   "execution_count": null,
   "metadata": {},
   "outputs": [],
   "source": [
    "import os\n",
    "# If we don't need CUDA, do this before importing TF\n",
    "os.environ[\"CUDA_VISIBLE_DEVICES\"] = \"-1\"\n",
    "import tensorflow as tf\n",
    "import numpy as np\n",
    "import pandas as pd\n",
    "import tqdm\n",
    "import tqdm.notebook\n",
    "import matplotlib.pyplot as plt\n",
    "import seaborn as sns\n",
    "sns.set()\n",
    "\n",
    "# matplotlib.use(\"pgf\")\n",
    "# matplotlib.rcParams.update({\n",
    "#     \"pgf.texsystem\": \"pdflatex\",\n",
    "#     'font.family': 'serif',\n",
    "#     'text.usetex': True,\n",
    "#     'pgf.rcfonts': False,\n",
    "# })\n",
    "\n",
    "os.chdir(\"/nfs/scistore12/chlgrp/vvolhejn/smooth/figures/\")"
   ]
  },
  {
   "cell_type": "code",
   "execution_count": null,
   "metadata": {},
   "outputs": [],
   "source": [
    "%load_ext autoreload\n",
    "%aimport smooth.datasets\n",
    "%aimport smooth.model\n",
    "%aimport smooth.analysis\n",
    "%aimport smooth.callbacks\n",
    "%aimport smooth.measures\n",
    "%aimport smooth.util\n",
    "%autoreload 1\n",
    "\n",
    "dn = smooth.analysis.get_display_names()"
   ]
  },
  {
   "cell_type": "code",
   "execution_count": null,
   "metadata": {},
   "outputs": [],
   "source": [
    "LOG_DIR = \"/nfs/scistore12/chlgrp/vvolhejn/smooth/logs/\"\n",
    "\n",
    "ms  = pd.read_feather(os.path.join(LOG_DIR, \"0326_mnist_binary/measures.feather\"))\n",
    "ms2 = pd.read_feather(os.path.join(LOG_DIR, \"0329_mnist_binary_gradient_norm/measures.feather\"))\n",
    "ms3 = pd.read_feather(os.path.join(LOG_DIR, \"0331_mnist_binary_weights_product/measures.feather\"))\n",
    "\n",
    "ms = pd.concat([ms, ms2, ms3], sort=False)\n",
    "ms = ms.reset_index(drop=True)\n",
    "\n",
    "print(\"Removing {} entries\".format(sum(ms[\"gradient_norm_test\"].isna())))\n",
    "ms = ms[~ms[\"gradient_norm_test\"].isna()]\n",
    "ms[\"model.weights_product_reg_coef\"] = ms[\"model.weights_product_reg_coef\"].fillna(value=0)\n",
    "\n",
    "smooth.analysis.remove_constant_columns(ms, verbose=True)\n",
    "\n",
    "ms[\"kind\"] = \"normal\"\n",
    "for val in [1e-5, 1e-4, 1e-3]:\n",
    "    ms.loc[ms[\"model.weights_product_reg_coef\"] == val, \"kind\"] = \"weights_product_{:.0e}\".format(val)\n",
    "# ms.loc[ms[\"model.weights_product_reg_coef\"] > 0, \"kind\"] = \"weights_product\"\n",
    "\n",
    "for val in [1e-5, 1e-4, 1e-3]:\n",
    "    ms.loc[ms[\"model.gradient_norm_reg_coef\"] == val, \"kind\"] = \"gradient_norm_{:.0e}\".format(val)\n",
    "\n",
    "# Add normalized gradient norm\n",
    "ms1 = ms[ms[\"kind\"] == \"normal\"].copy()\n",
    "ms1 = ms1.rename(columns={\"gradient_norm_test\": \"gradient_norm_test_unreg\"})\n",
    "ms = pd.merge(\n",
    "    ms,\n",
    "    ms1[[\"dataset.name\", \"model.hidden_size\", \"gradient_norm_test_unreg\"]],\n",
    "    on=[\"dataset.name\", \"model.hidden_size\"],\n",
    ")\n",
    "\n",
    "ms[\"gradient_norm_test_normalized\"] = ms[\"gradient_norm_test\"] / ms[\"gradient_norm_test_unreg\"]\n",
    "del ms[\"gradient_norm_test_unreg\"]\n"
   ]
  },
  {
   "cell_type": "code",
   "execution_count": null,
   "metadata": {},
   "outputs": [],
   "source": [
    "def should_plot_as_log(measure_name):\n",
    "    patterns = [\n",
    "        \"loss\",\n",
    "#         \"weights_product\",\n",
    "    ]\n",
    "    \n",
    "    for p in patterns:\n",
    "        if p in measure_name:\n",
    "            return True\n",
    "    \n",
    "    return False\n",
    "\n",
    "def plot_measure(ms1, measure_name, groupby):\n",
    "    ms1 = ms1.rename(columns=dn)\n",
    "    \n",
    "    grid = sns.lineplot(\n",
    "        data=ms1,\n",
    "        x=dn[groupby],\n",
    "        y=dn[measure_name],\n",
    "        hue=dn[measure_name],\n",
    "        palette=smooth.analysis.make_palette(ms1[dn[measure_name]]),\n",
    "#         col=\"kind\",\n",
    "#         hue_order=sorted(ms1[\"kind\"].unique()),\n",
    "#         kind=\"line\",\n",
    "    )\n",
    "    ax = grid\n",
    "#     ax = grid.axes[0][0]\n",
    "    if \"loss\" in measure_name:\n",
    "        ax.set_yscale(\"log\")\n",
    "    ax.set_xscale(\"log\")\n",
    "    ax.set_xlim((3, 1200))\n",
    "    ax.set_xticks(sorted(ms[groupby].unique()))\n",
    "#     ax.get_xaxis().get_major_formatter().set_scientific(False)\n",
    "    ax.xaxis.set_major_formatter(matplotlib.ticker.ScalarFormatter())\n",
    "\n",
    "    for t in ax.get_legend().texts[1:]:\n",
    "#         print(t.get_text())\n",
    "        t.set_text(\"${}$\".format(smooth.analysis.to_scientific_tex(float(t.get_text()))))\n",
    "    plt.show()\n",
    "    \n",
    "\n",
    "def plot_measure(ms, measure_name, groupby):\n",
    "    ms = ms.copy()\n",
    "    ms = ms.rename(columns=dn)\n",
    "    \n",
    "    if False and should_plot_as_log(measure_name):\n",
    "        log_measure_name = \"log10_{}\".format(measure_name)\n",
    "        ms[log_measure_name] = np.log10(ms[measure_name])\n",
    "        measure_name = log_measure_name\n",
    "\n",
    "    sns.boxplot(data=ms, x=dn[measure_name], y=dn[groupby], orient=\"h\")\n",
    "    swarm_plot = sns.swarmplot(data=ms, x=dn[measure_name], y=dn[groupby],\n",
    "                      size=2, color=\".3\", linewidth=0, orient=\"h\",\n",
    "                 )\n",
    "    \n",
    "#     for t in swarm_plot.get_yticklabels():\n",
    "#         print(float(t.get_text()))\n",
    "#         t.set_text(\"${}$\".format(smooth.analysis.to_scientific_tex(float(t.get_text()))))\n",
    "#         t.set_text(\"foo\")\n",
    "    \n",
    "    swarm_plot.set_yticklabels([\n",
    "        \"${}$\".format(smooth.analysis.to_scientific_tex(float(t.get_text())))\n",
    "        for t in swarm_plot.get_yticklabels()\n",
    "    ])\n",
    "    \n",
    "#     if xlabel:\n",
    "#         swarm_plot.set(xlabel=xlabel)\n",
    "    plt.show()\n",
    "    fig = swarm_plot.get_figure()\n",
    "    \n",
    "    return fig\n",
    "\n",
    "def describe(ms, reg_col, reg_coef, measure_col):\n",
    "    return ms.loc[ms[reg_col] == reg_coef, measure_col].describe()\n",
    "\n",
    "def describe_all(ms, reg_col, reg_coef, measure_col, normalized_measure_col=None):\n",
    "    if normalized_measure_col is None:\n",
    "        normalized_measure_col = measure_col + \"_normalized\"\n",
    "\n",
    "    unreg = describe(ms, reg_col, 0, measure_col)\n",
    "    reg = describe(ms, reg_col, reg_coef, measure_col)\n",
    "    reg_normalized = describe(ms, reg_col, reg_coef, normalized_measure_col)\n",
    "    \n",
    "    print(\"Unregularized mean:    {:.2f}\".format(unreg[\"mean\"]))\n",
    "    print(\"Regularized mean:      {:.2f}\".format(reg[\"mean\"]))\n",
    "    print(\"Normalized mean ± std: {:.2f} ± {:.2f}\".format(reg_normalized[\"mean\"], reg_normalized[\"std\"]))\n",
    "    print(\"Models dropped:        {}\".format(int(unreg[\"count\"] - reg[\"count\"])))"
   ]
  },
  {
   "cell_type": "markdown",
   "metadata": {},
   "source": [
    "## Reruns "
   ]
  },
  {
   "cell_type": "code",
   "execution_count": null,
   "metadata": {},
   "outputs": [],
   "source": [
    "# Updating rcParams before plotting anything breaks matplotlib for some reason\n",
    "plt.plot([1], [2])\n",
    "\n",
    "matplotlib.use(\"pgf\")\n",
    "matplotlib.rcParams.update({\n",
    "    \"pgf.texsystem\": \"pdflatex\",\n",
    "    'font.family': 'serif',\n",
    "    'text.usetex': True,\n",
    "    'pgf.rcfonts': False,\n",
    "})"
   ]
  },
  {
   "cell_type": "markdown",
   "metadata": {},
   "source": [
    "### Gradient norm"
   ]
  },
  {
   "cell_type": "code",
   "execution_count": null,
   "metadata": {},
   "outputs": [],
   "source": [
    "ms = smooth.analysis.load_measures(\n",
    "    \"../logs/0410_gradient_reg/measures.feather\",\n",
    "    kind_cols=[\n",
    "        (\"model.learning_rate\", \"lr\"),\n",
    "        (\"model.gradient_norm_reg_coef\", \"gn\"),\n",
    "    ],\n",
    ")\n",
    "\n",
    "# plot_all_measures(ms)"
   ]
  },
  {
   "cell_type": "code",
   "execution_count": null,
   "metadata": {},
   "outputs": [],
   "source": [
    "ms1 = ms[ms[\"model.learning_rate\"] == 0.01].copy()\n",
    "ms1[\"Regularization coef\"] = ms1[\"model.gradient_norm_reg_coef\"]\n",
    "\n",
    "ms1 = smooth.analysis.get_ratios(ms1, ms1[\"model.gradient_norm_reg_coef\"] == 0, \"gradient_norm_test\")\n",
    "\n",
    "fig1 = plot_measure(ms1, \"gradient_norm_test\", groupby=\"model.gradient_norm_reg_coef\")\n",
    "fig1.show()\n",
    "# fig1.savefig(\"../figures/gradient_norm_reg_gradient_norm_test.pdf\", bbox_inches=\"tight\")\n",
    "# plot_all_measures(ms1, \"Regularization coef\")"
   ]
  },
  {
   "cell_type": "code",
   "execution_count": null,
   "metadata": {},
   "outputs": [],
   "source": [
    "describe_all(ms1, \"model.gradient_norm_reg_coef\", 1e-3, \"gradient_norm_test\")"
   ]
  },
  {
   "cell_type": "code",
   "execution_count": null,
   "metadata": {},
   "outputs": [],
   "source": [
    "fig2 = plot_measure(ms1, \"gradient_norm_test_normalized\",\n",
    "                    groupby=\"model.gradient_norm_reg_coef\")\n",
    "fig2.show()\n",
    "# fig2.savefig(\"../figures/gradient_norm_reg_gradient_norm_test_normalized.pdf\", bbox_inches=\"tight\")"
   ]
  },
  {
   "cell_type": "markdown",
   "metadata": {},
   "source": [
    "### Weights product"
   ]
  },
  {
   "cell_type": "code",
   "execution_count": null,
   "metadata": {},
   "outputs": [],
   "source": [
    "ms = smooth.analysis.load_measures(\n",
    "    \"../logs/0412_weights_product_reg/measures.feather\",\n",
    "    kind_cols=[\n",
    "        (\"model.learning_rate\", \"lr\"),\n",
    "        (\"model.weights_product_reg_coef\", \"wp\"),\n",
    "    ],\n",
    ")\n",
    "ms = ms[ms[\"model.weights_product_reg_coef\"] < 1e-4]\n",
    "\n",
    "ms1 = smooth.analysis.load_measures(\n",
    "    \"../logs/0413_weights_product_reg/measures.feather\",\n",
    "    kind_cols=[\n",
    "        (\"model.learning_rate\", \"lr\"),\n",
    "        (\"model.weights_product_reg_coef\", \"wp\"),\n",
    "    ],\n",
    ")\n",
    "ms = pd.concat([ms, ms1], sort=False)\n",
    "ms = ms.sort_values([\"model.learning_rate\", \"model.weights_product_reg_coef\"])\n",
    "\n",
    "# plot_all_measures(ms)"
   ]
  },
  {
   "cell_type": "code",
   "execution_count": null,
   "metadata": {},
   "outputs": [],
   "source": [
    "ms1 = ms[ms[\"model.learning_rate\"] == 0.01].copy()\n",
    "\n",
    "ms1 = ms1[ms1[\"dataset.name\"].isin(\n",
    "    set(ms1.loc[ms1[\"model.weights_product_reg_coef\"] == 3e-5, \"dataset.name\"])\n",
    ")]\n",
    "\n",
    "ms1 = smooth.analysis.get_ratios(ms1, ms1[\"model.weights_product_reg_coef\"] == 0, \"weights_product\")\n",
    "\n",
    "# ms1[\"Regularization coef\"] = ms1[\"model.weights_product_reg_coef\"].map(str)\n",
    "\n",
    "fig = plot_measure(\n",
    "    ms1,\n",
    "    \"weights_product\",\n",
    "    groupby=\"model.weights_product_reg_coef\",\n",
    "#     xlabel=\"Weights product\",\n",
    ")\n",
    "fig.show()\n",
    "# ax.set(xlabel='common xlabel', ylabel='common ylabel')\n",
    "# fig.savefig(\"../figures/weights_product_reg_weights_product.pdf\", bbox_inches=\"tight\")\n",
    "# plot_all_measures(ms1, \"Regularization coef\")"
   ]
  },
  {
   "cell_type": "code",
   "execution_count": null,
   "metadata": {},
   "outputs": [],
   "source": [
    "describe_all(ms1, \"model.weights_product_reg_coef\", 3e-5, \"weights_product\")"
   ]
  },
  {
   "cell_type": "code",
   "execution_count": null,
   "metadata": {},
   "outputs": [],
   "source": [
    "fig = plot_measure(\n",
    "    ms1,\n",
    "    \"weights_product_normalized\",\n",
    "    groupby=\"model.weights_product_reg_coef\",\n",
    "#     xlabel=\"Weights product - normed\",\n",
    ")\n",
    "fig.show()\n",
    "fig.savefig(\"../figures/weights_product_reg_weights_product_normalized.pdf\", bbox_inches=\"tight\")\n",
    "# fig.savefig(\"../figures/teatalk_weights_product_normalized.png\", bbox_inches=\"tight\")"
   ]
  },
  {
   "cell_type": "markdown",
   "metadata": {},
   "source": [
    "### Function path length"
   ]
  },
  {
   "cell_type": "code",
   "execution_count": null,
   "metadata": {},
   "outputs": [],
   "source": [
    "ms = smooth.analysis.load_measures(\n",
    "    \"../logs/0508_path_length_f_reg/measures.feather\",\n",
    "    kind_cols=[\n",
    "        (\"model.path_length_f_reg_coef\", \"coef\"),\n",
    "    ],\n",
    ")\n",
    "\n",
    "ms0 = smooth.analysis.load_measures(\n",
    "    \"../logs/0422_path_length_f_reg/measures.feather\",\n",
    "#     \"./0421_path_length_f_reg/measures.feather\",\n",
    "    kind_cols=[\n",
    "        (\"model.path_length_f_reg_coef\", \"coef\"),\n",
    "    ],\n",
    ")\n",
    "\n",
    "ms0 = ms0[ms0[\"model.path_length_f_reg_coef\"] == 0]\n",
    "ms = pd.concat([ms0, ms], sort=False)\n",
    "\n",
    "converged_datasets = ms[(ms[\"model.path_length_f_reg_coef\"] == 0.0001)]\n",
    "ms = ms[ms[\"dataset.name\"].isin(converged_datasets[\"dataset.name\"])]\n",
    "ms[\"path_length_f_test_baselined\"] = ms[\"path_length_f_test\"] - 1\n",
    "\n",
    "ms = smooth.analysis.get_ratios(ms, ms[\"model.path_length_f_reg_coef\"] == 0, \"path_length_f_test_baselined\")"
   ]
  },
  {
   "cell_type": "code",
   "execution_count": null,
   "metadata": {},
   "outputs": [],
   "source": [
    "describe_all(ms, \"model.path_length_f_reg_coef\", 1e-4, \"path_length_f_test\",\n",
    "             normalized_measure_col=\"path_length_f_test_baselined_normalized\")"
   ]
  },
  {
   "cell_type": "code",
   "execution_count": null,
   "metadata": {},
   "outputs": [],
   "source": [
    "fig = plot_measure(\n",
    "    ms,\n",
    "    \"path_length_f_test\",\n",
    "    groupby=\"model.path_length_f_reg_coef\",\n",
    "#     xlabel=\"Weights product\",\n",
    ")\n",
    "fig.show()\n",
    "fig.savefig(\"../figures/path_length_f_reg.pdf\", bbox_inches=\"tight\")"
   ]
  },
  {
   "cell_type": "code",
   "execution_count": null,
   "metadata": {},
   "outputs": [],
   "source": [
    "ms = smooth.analysis.get_ratios(ms, ms[\"model.path_length_f_reg_coef\"] == 0, \"path_length_f_test\")\n",
    "\n",
    "fig = plot_measure(\n",
    "    ms,\n",
    "    \"path_length_f_test_normalized\",\n",
    "    groupby=\"model.path_length_f_reg_coef\",\n",
    "#     xlabel=\"Weights product\",\n",
    ")\n",
    "fig.show()"
   ]
  },
  {
   "cell_type": "code",
   "execution_count": null,
   "metadata": {},
   "outputs": [],
   "source": [
    "fig = plot_measure(\n",
    "    ms,\n",
    "    \"path_length_f_test_baselined_normalized\",\n",
    "    groupby=\"model.path_length_f_reg_coef\",\n",
    "#     xlabel=\"Weights product\",\n",
    ")\n",
    "fig.show()\n",
    "fig.savefig(\"../figures/path_length_f_reg_baselined_normalized.pdf\", bbox_inches=\"tight\")"
   ]
  },
  {
   "cell_type": "markdown",
   "metadata": {},
   "source": [
    "### Gradient path length"
   ]
  },
  {
   "cell_type": "code",
   "execution_count": null,
   "metadata": {},
   "outputs": [],
   "source": [
    "ms0 = smooth.analysis.load_measures(\n",
    "    \"../logs/0423_path_length_d_reg/measures.feather\",\n",
    "    kind_cols=[\n",
    "        (\"model.path_length_d_reg_coef\", \"coef\"),\n",
    "    ],\n",
    ")\n",
    "\n",
    "ms = smooth.analysis.load_measures(\n",
    "    \"../logs/0508_path_length_d_reg/measures.feather\",\n",
    "    kind_cols=[\n",
    "        (\"model.path_length_d_reg_coef\", \"coef\"),\n",
    "    ],\n",
    ")\n",
    "\n",
    "ms0 = ms0[ms0[\"dataset.name\"].isin(set(ms[\"dataset.name\"]))]\n",
    "\n",
    "ms = pd.concat([ms0, ms], sort=False)\n",
    "ms = smooth.analysis.get_ratios(ms, ms[\"model.path_length_d_reg_coef\"] == 0, \"path_length_d_test\")\n",
    "\n",
    "fig1 = plot_measure(\n",
    "    ms,\n",
    "    \"path_length_d_test\",\n",
    "    groupby=\"model.path_length_d_reg_coef\"\n",
    ")\n",
    "fig1.show()\n",
    "# fig1.savefig(\"../figures/path_length_d_reg.pdf\", bbox_inches=\"tight\")"
   ]
  },
  {
   "cell_type": "code",
   "execution_count": null,
   "metadata": {},
   "outputs": [],
   "source": [
    "describe_all(ms, \"model.path_length_d_reg_coef\", 1e-5, \"path_length_d_test\",\n",
    "             normalized_measure_col=\"path_length_d_test_normalized\")"
   ]
  },
  {
   "cell_type": "code",
   "execution_count": null,
   "metadata": {},
   "outputs": [],
   "source": [
    "fig1 = plot_measure(\n",
    "    ms,\n",
    "    \"path_length_d_test_normalized\",\n",
    "    groupby=\"model.path_length_d_reg_coef\"\n",
    ")\n",
    "fig1.show()\n",
    "# fig1.savefig(\"../figures/path_length_d_reg_normalized.pdf\", bbox_inches=\"tight\")"
   ]
  },
  {
   "cell_type": "markdown",
   "metadata": {},
   "source": [
    "## Old"
   ]
  },
  {
   "cell_type": "code",
   "execution_count": null,
   "metadata": {},
   "outputs": [],
   "source": [
    "ms1 = ms[ms[\"model.weights_product_reg_coef\"] == 0]\n",
    "\n",
    "for measure in [\n",
    "            \"loss_train\",\n",
    "            \"loss_test\",\n",
    "            \"gradient_norm_train\",\n",
    "            \"gradient_norm_test\",\n",
    "            \"gradient_norm_test_normalized\",\n",
    "#             \"weights_product\",\n",
    "        ]:\n",
    "    plt.figure()\n",
    "    plot_measure(ms1[:10], measure, \"model.gradient_norm_reg_coef\")\n",
    "#     plt.savefig(\"gradient_norm_reg_{}.pdf\".format(measure), bbox_inches=\"tight\")"
   ]
  },
  {
   "cell_type": "code",
   "execution_count": null,
   "metadata": {},
   "outputs": [],
   "source": [
    "ms1 = ms[ms[\"model.gradient_norm_reg_coef\"] == 0]\n",
    "\n",
    "for measure in [\n",
    "            \"loss_train\",\n",
    "            \"loss_test\",\n",
    "            \"weights_product\",\n",
    "#             \"gradient_norm_test_normalized\",\n",
    "#             \"weights_product\",\n",
    "        ]:\n",
    "    plt.figure()\n",
    "    plot_measure(ms1[:10], measure, \"model.weights_product_reg_coef\")\n",
    "#     plt.savefig(\"gradient_norm_reg_{}.pdf\".format(measure), bbox_inches=\"tight\")"
   ]
  },
  {
   "cell_type": "code",
   "execution_count": null,
   "metadata": {},
   "outputs": [],
   "source": [
    "\n",
    "\n",
    "\n",
    "\n",
    "\n",
    "\n",
    "\n",
    "\n",
    "\n",
    "\n",
    "\n",
    "\n",
    "\n",
    "\n",
    "\n",
    "\n",
    "\n"
   ]
  }
 ],
 "metadata": {
  "kernelspec": {
   "display_name": "tf2",
   "language": "python",
   "name": "tf2"
  },
  "language_info": {
   "codemirror_mode": {
    "name": "ipython",
    "version": 3
   },
   "file_extension": ".py",
   "mimetype": "text/x-python",
   "name": "python",
   "nbconvert_exporter": "python",
   "pygments_lexer": "ipython3",
   "version": "3.5.3"
  }
 },
 "nbformat": 4,
 "nbformat_minor": 4
}
