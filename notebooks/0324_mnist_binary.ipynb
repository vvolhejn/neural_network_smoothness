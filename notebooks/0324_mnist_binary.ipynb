{
 "cells": [
  {
   "cell_type": "markdown",
   "metadata": {},
   "source": [
    "# Explicit regularization on MNIST-binary datasets\n",
    "\n",
    "We examine regularizing two of our smoothness measures: `gradient_norm` and `weights_product`.\n",
    "\n",
    "This is done on the MNIST-binary datasets."
   ]
  },
  {
   "cell_type": "code",
   "execution_count": null,
   "metadata": {},
   "outputs": [],
   "source": [
    "import os\n",
    "import sys\n",
    "# If we don't need CUDA, do this before importing TF\n",
    "os.environ[\"CUDA_VISIBLE_DEVICES\"] = \"-1\"\n",
    "import tensorflow as tf\n",
    "import numpy as np\n",
    "import pandas as pd\n",
    "import tqdm\n",
    "import tqdm.notebook\n",
    "import matplotlib.pyplot as plt\n",
    "import seaborn as sns\n",
    "import IPython\n",
    "sns.set()"
   ]
  },
  {
   "cell_type": "code",
   "execution_count": null,
   "metadata": {},
   "outputs": [],
   "source": [
    "%load_ext autoreload\n",
    "%aimport smooth.config\n",
    "%aimport smooth.datasets\n",
    "%aimport smooth.model\n",
    "%aimport smooth.analysis\n",
    "%aimport smooth.callbacks\n",
    "%aimport smooth.measures\n",
    "%aimport smooth.util\n",
    "%autoreload 1"
   ]
  },
  {
   "cell_type": "code",
   "execution_count": null,
   "metadata": {},
   "outputs": [],
   "source": [
    "os.chdir(\"/nfs/scistore12/chlgrp/vvolhejn/smooth/logs/\")\n",
    "\n",
    "ms = pd.read_feather(\"0326_mnist_binary/measures.feather\")\n",
    "ms2 = pd.read_feather(\"0329_mnist_binary_gradient_norm/measures.feather\")\n",
    "ms3 = pd.read_feather(\"0331_mnist_binary_weights_product/measures.feather\")\n",
    "\n",
    "ms = pd.concat([ms, ms2, ms3, ms_finetune], sort=False)\n",
    "ms = ms.reset_index(drop=True)\n",
    "\n",
    "print(\"Removing {} entries\".format(sum(ms[\"gradient_norm_test\"].isna())))\n",
    "ms = ms[~ms[\"gradient_norm_test\"].isna()]\n",
    "ms[\"model.weights_product_reg_coef\"] = ms[\"model.weights_product_reg_coef\"].fillna(value=0)\n",
    "\n",
    "smooth.analysis.remove_constant_columns(ms, verbose=True)\n",
    "\n",
    "ms[\"kind\"] = ms[\"kind\"].fillna(\"normal\")\n",
    "\n",
    "for val in [1e-5, 1e-4, 1e-3]:\n",
    "    ms.loc[ms[\"model.weights_product_reg_coef\"] == val, \"kind\"] = \"weights_product_{:.0e}\".format(val)\n",
    "# ms.loc[ms[\"model.weights_product_reg_coef\"] > 0, \"kind\"] = \"weights_product\"\n",
    "\n",
    "for val in [1e-5, 1e-4, 1e-3]:\n",
    "    ms.loc[ms[\"model.gradient_norm_reg_coef\"] == val, \"kind\"] = \"gradient_norm_{:.0e}\".format(val)\n",
    "\n",
    "ms"
   ]
  },
  {
   "cell_type": "code",
   "execution_count": null,
   "metadata": {},
   "outputs": [],
   "source": [
    "ms1 = ms[ms[\"model.weights_product_reg_coef\"] == 0]\n",
    "\n",
    "def plot_measure(measure_name):\n",
    "    grid = sns.relplot(\n",
    "        data=ms1,\n",
    "        x=\"model.hidden_size\",\n",
    "        y=measure_name,\n",
    "#         hue=\"kind\",\n",
    "        hue=\"model.gradient_norm_reg_coef\",\n",
    "        palette=smooth.analysis.make_palette(ms[\"model.gradient_norm_reg_coef\"]),\n",
    "#         col=\"kind\",\n",
    "#         hue_order=sorted(ms1[\"kind\"].unique()),\n",
    "#         alpha=0.7,\n",
    "        kind=\"line\",\n",
    "    )\n",
    "    ax = grid.axes[0][0]\n",
    "    if \"loss\" in measure_name:\n",
    "        ax.set_yscale(\"log\")\n",
    "    ax.set_xscale(\"log\")\n",
    "    ax.set_xlim((3, 1200))\n",
    "    plt.show()\n",
    "\n",
    "for measure in [\n",
    "    \"loss_train\", \"loss_test\",\n",
    "#     \"gradient_norm_train\",\n",
    "    \"gradient_norm_test\",\n",
    "    \"weights_product\",\n",
    "    \"path_length_f_test\",\n",
    "    \"path_length_d_test\",\n",
    "]:\n",
    "    plot_measure(measure)"
   ]
  },
  {
   "cell_type": "code",
   "execution_count": null,
   "metadata": {},
   "outputs": [],
   "source": [
    "ms1 = ms[ms[\"model.gradient_norm_reg_coef\"] == 0]\n",
    "\n",
    "def plot_measure(measure_name):\n",
    "    grid = sns.relplot(\n",
    "        data=ms1,\n",
    "        x=\"model.hidden_size\",\n",
    "        y=measure_name,\n",
    "#         hue=\"kind\",\n",
    "        hue=\"model.weights_product_reg_coef\",\n",
    "        palette=smooth.analysis.make_palette(ms[\"model.weights_product_reg_coef\"]),\n",
    "#         col=\"kind\",\n",
    "#         hue_order=sorted(ms1[\"kind\"].unique()),\n",
    "#         alpha=0.7,\n",
    "        kind=\"line\",\n",
    "    )\n",
    "    ax = grid.axes[0][0]\n",
    "    if \"loss\" in measure_name:\n",
    "        ax.set_yscale(\"log\")\n",
    "    ax.set_xscale(\"log\")\n",
    "    ax.set_xlim((3, 1200))\n",
    "    plt.show()\n",
    "\n",
    "for measure in [\n",
    "    \"loss_train\", \"loss_test\",\n",
    "    \"gradient_norm_test\",\n",
    "    \"weights_product\",\n",
    "    \"path_length_f_test\",\n",
    "    \"path_length_d_test\",\n",
    "]:\n",
    "    plot_measure(measure)"
   ]
  },
  {
   "cell_type": "code",
   "execution_count": null,
   "metadata": {},
   "outputs": [],
   "source": [
    "ms2 = ms\n",
    "ms2[\"log_loss_train\"] = np.log10(ms[\"loss_train\"])\n",
    "ms2[\"log_loss_test\"] = np.log10(ms[\"loss_test\"])\n",
    "\n",
    "sns.boxplot(\n",
    "    data=ms,\n",
    "    x=\"log_loss_test\",\n",
    "    y=\"dataset.name\",\n",
    ")"
   ]
  },
  {
   "cell_type": "code",
   "execution_count": null,
   "metadata": {},
   "outputs": [],
   "source": [
    "dataset_stats.sort_values(\"loss_test\")"
   ]
  },
  {
   "cell_type": "code",
   "execution_count": null,
   "metadata": {},
   "outputs": [],
   "source": [
    "sns.relplot(data=dataset_stats, x=\"loss_train\", y=\"loss_test\")"
   ]
  },
  {
   "cell_type": "code",
   "execution_count": null,
   "metadata": {},
   "outputs": [],
   "source": []
  },
  {
   "cell_type": "code",
   "execution_count": null,
   "metadata": {},
   "outputs": [],
   "source": [
    "\n",
    "\n",
    "\n",
    "\n",
    "\n",
    "\n",
    "\n",
    "\n",
    "\n",
    "\n",
    "\n",
    "\n",
    "\n",
    "\n",
    "\n",
    "\n"
   ]
  }
 ],
 "metadata": {
  "kernelspec": {
   "display_name": "tf2",
   "language": "python",
   "name": "tf2"
  },
  "language_info": {
   "codemirror_mode": {
    "name": "ipython",
    "version": 3
   },
   "file_extension": ".py",
   "mimetype": "text/x-python",
   "name": "python",
   "nbconvert_exporter": "python",
   "pygments_lexer": "ipython3",
   "version": "3.5.3"
  }
 },
 "nbformat": 4,
 "nbformat_minor": 4
}
