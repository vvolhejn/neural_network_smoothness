{
 "cells": [
  {
   "cell_type": "code",
   "execution_count": null,
   "metadata": {},
   "outputs": [],
   "source": [
    "import os\n",
    "import sys\n",
    "import itertools\n",
    "\n",
    "# If we don't need CUDA, do this before importing TF\n",
    "os.environ[\"CUDA_VISIBLE_DEVICES\"] = \"-1\"\n",
    "import tensorflow as tf\n",
    "import numpy as np\n",
    "import pandas as pd\n",
    "import tqdm\n",
    "import tqdm.notebook\n",
    "import scipy.stats\n",
    "\n",
    "import matplotlib.pyplot as plt\n",
    "\n",
    "gpus = tf.config.experimental.list_physical_devices('GPU')\n",
    "if gpus:\n",
    "    tf.config.experimental.set_visible_devices([gpus[1]], 'GPU')\n",
    "\n",
    "sys.path.append(\"/nfs/scistore12/chlgrp/vvolhejn/smooth\")"
   ]
  },
  {
   "cell_type": "code",
   "execution_count": null,
   "metadata": {},
   "outputs": [],
   "source": [
    "%load_ext autoreload\n",
    "%aimport smooth.datasets\n",
    "%aimport smooth.model\n",
    "%aimport smooth.analysis\n",
    "%aimport smooth.callbacks\n",
    "%aimport smooth.measures\n",
    "%autoreload 1"
   ]
  },
  {
   "cell_type": "code",
   "execution_count": null,
   "metadata": {},
   "outputs": [],
   "source": [
    "def saw(x):\n",
    "    x = (x+1) % 2\n",
    "    return np.min([x, 2-x], axis=0)\n",
    "\n",
    "x_train = np.linspace(-2, 2, 5, dtype=np.float32).reshape((-1, 1))\n",
    "y_train = saw(x_train)\n",
    "\n",
    "x_test = np.linspace(-3, 3, 61, dtype=np.float32).reshape((-1, 1))\n",
    "y_test = saw(x_test)\n",
    "\n",
    "dataset = smooth.datasets.Dataset(x_train, y_train, x_test, y_test)"
   ]
  },
  {
   "cell_type": "code",
   "execution_count": null,
   "metadata": {},
   "outputs": [],
   "source": [
    "np.logspace(np.log10(3.), np.log10(300.), 20)"
   ]
  },
  {
   "cell_type": "code",
   "execution_count": null,
   "metadata": {},
   "outputs": [],
   "source": [
    "# init_scales = [300., 100., 30., 10., 3.]\n",
    "init_scales = np.logspace(np.log10(10.), np.log10(1000.), 20)\n",
    "models = dict()\n",
    "\n",
    "for init_scale in init_scales:\n",
    "    models[init_scale] = smooth.model.train_shallow_relu(\n",
    "        dataset,\n",
    "        learning_rate=0.1 / init_scale,\n",
    "        init_scale=init_scale,\n",
    "        epochs=10000,\n",
    "        hidden_size=100,\n",
    "        batch_size=len(x_train),\n",
    "        verbose=0,\n",
    "        callbacks=[\n",
    "            tf.keras.callbacks.EarlyStopping(\"loss\", min_delta=1e-5, patience=100),\n",
    "            smooth.callbacks.Tqdm(verbose=0),\n",
    "            tf.keras.callbacks.TerminateOnNaN()\n",
    "        ],\n",
    "        train_val_split=1.0,\n",
    "    )\n",
    "\n",
    "    smooth.analysis.plot_shallow_relu(models[init_scale], dataset)"
   ]
  },
  {
   "cell_type": "code",
   "execution_count": null,
   "metadata": {},
   "outputs": [],
   "source": [
    "measures = dict()\n",
    "\n",
    "for init_scale, model in tqdm.notebook.tqdm(models.items()):\n",
    "    measures[init_scale] = smooth.measures.get_measures(model, x_test, y_test)"
   ]
  },
  {
   "cell_type": "code",
   "execution_count": null,
   "metadata": {},
   "outputs": [],
   "source": [
    "measure_names = measures[x[0]].keys()\n",
    "\n",
    "x = sorted(measures.keys())\n",
    "yd = dict(zip(measure_names,[[] for _ in range(len(measure_names))]))\n",
    "\n",
    "for init_scale in x:\n",
    "    for k, v in measures[init_scale].items():\n",
    "        yd[k].append(v)\n",
    "\n",
    "for measure_name in measure_names:\n",
    "    plt.plot(x, yd[measure_name])\n",
    "    plt.title(measure_name)\n",
    "    plt.xscale(\"log\")\n",
    "    plt.show()"
   ]
  },
  {
   "cell_type": "code",
   "execution_count": null,
   "metadata": {},
   "outputs": [],
   "source": [
    "smooth.measures.get_measures(models[3.0], x_test, y_test)"
   ]
  },
  {
   "cell_type": "code",
   "execution_count": null,
   "metadata": {},
   "outputs": [],
   "source": [
    "smooth.analysis.plot_shallow_relu(_model, dataset)"
   ]
  },
  {
   "cell_type": "code",
   "execution_count": null,
   "metadata": {},
   "outputs": [],
   "source": [
    "measures"
   ]
  },
  {
   "cell_type": "code",
   "execution_count": null,
   "metadata": {},
   "outputs": [],
   "source": []
  }
 ],
 "metadata": {
  "kernelspec": {
   "display_name": "tf2",
   "language": "python",
   "name": "tf2"
  },
  "language_info": {
   "codemirror_mode": {
    "name": "ipython",
    "version": 3
   },
   "file_extension": ".py",
   "mimetype": "text/x-python",
   "name": "python",
   "nbconvert_exporter": "python",
   "pygments_lexer": "ipython3",
   "version": "3.5.3"
  }
 },
 "nbformat": 4,
 "nbformat_minor": 4
}
