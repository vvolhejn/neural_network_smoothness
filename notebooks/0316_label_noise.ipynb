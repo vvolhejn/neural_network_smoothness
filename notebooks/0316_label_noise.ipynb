{
 "cells": [
  {
   "cell_type": "markdown",
   "metadata": {},
   "source": [
    "# Label noise\n",
    "\n",
    "We expect applying label noise to increase complexity. This is indeed the case."
   ]
  },
  {
   "cell_type": "code",
   "execution_count": null,
   "metadata": {},
   "outputs": [],
   "source": [
    "import os\n",
    "import sys\n",
    "# If we don't need CUDA, do this before importing TF\n",
    "os.environ[\"CUDA_VISIBLE_DEVICES\"] = \"-1\"\n",
    "import tensorflow as tf\n",
    "import numpy as np\n",
    "import pandas as pd\n",
    "import tqdm\n",
    "import tqdm.notebook\n",
    "import scipy.stats\n",
    "import matplotlib.pyplot as plt\n",
    "import seaborn as sns\n",
    "import IPython\n",
    "import GPy\n",
    "sns.set()\n",
    "\n",
    "gpus = tf.config.experimental.list_physical_devices('GPU')\n",
    "if gpus:\n",
    "    tf.config.experimental.set_visible_devices([gpus[1]], 'GPU')\n",
    "    \n",
    "os.chdir(\"/nfs/scistore12/chlgrp/vvolhejn/smooth/logs/0316-180830/\")"
   ]
  },
  {
   "cell_type": "code",
   "execution_count": null,
   "metadata": {},
   "outputs": [],
   "source": [
    "%load_ext autoreload\n",
    "%aimport smooth.datasets\n",
    "%aimport smooth.model\n",
    "%aimport smooth.analysis\n",
    "%aimport smooth.callbacks\n",
    "%aimport smooth.measures\n",
    "%aimport smooth.util\n",
    "%autoreload 1"
   ]
  },
  {
   "cell_type": "code",
   "execution_count": null,
   "metadata": {},
   "outputs": [],
   "source": [
    "ms = pd.read_feather(\"./measures.feather\")\n",
    "smooth.analysis.remove_constant_columns(ms, verbose=True)\n",
    "ms.head()"
   ]
  },
  {
   "cell_type": "code",
   "execution_count": null,
   "metadata": {},
   "outputs": [],
   "source": [
    "def plot_measures(ms1):\n",
    "    measure_cols = [\n",
    "        \"loss_test\",\n",
    "        \"gradient_norm\",\n",
    "        \"path_length_f_train\", \"path_length_f_test\",\n",
    "        \"path_length_d_train\", \"path_length_d_test\",\n",
    "        \"weights_rms\",\n",
    "    ]\n",
    "\n",
    "    for measure in measure_cols:\n",
    "        IPython.display.display(IPython.display.Markdown(\"### {}\".format(measure)))\n",
    "        if True:\n",
    "    #         ms1 = ms_mean[(ms_nn[\"hidden_size\"] == 64)]\n",
    "    #         ms1 = ms_nn[(ms_nn[\"init_scale\"] == 10.)]\n",
    "            grid = sns.relplot(\n",
    "                data=ms1,\n",
    "                x=\"dataset.label_noise\",\n",
    "                y=measure,\n",
    "#                 hue=\"model.hidden_size\",\n",
    "#                 col=\"dataset.name\",\n",
    "    #             col_wrap=3,\n",
    "                kind=\"line\",\n",
    "#                 palette=smooth.analysis.make_palette(ms1[\"model.hidden_size\"].unique()),\n",
    "            )\n",
    "            ax = grid.axes[0][0]\n",
    "\n",
    "#             ax.set_xscale(\"log\")\n",
    "            if \"loss\" in measure or True:\n",
    "                ax.set_yscale(\"log\")\n",
    "            plt.show()"
   ]
  },
  {
   "cell_type": "code",
   "execution_count": null,
   "metadata": {},
   "outputs": [],
   "source": [
    "plot_measures(ms)"
   ]
  },
  {
   "cell_type": "code",
   "execution_count": null,
   "metadata": {},
   "outputs": [],
   "source": [
    "model = tf.keras.models.load_model(\"./bs=64_d=mnistparity-1000-0.05_e=20000_hs=64_is=1.0_i=0_lr=0.01/model.h5\")"
   ]
  },
  {
   "cell_type": "code",
   "execution_count": null,
   "metadata": {},
   "outputs": [],
   "source": [
    "dataset = smooth.datasets.from_params(name=\"mnistparity\", samples_train=1000)"
   ]
  },
  {
   "cell_type": "code",
   "execution_count": null,
   "metadata": {},
   "outputs": [],
   "source": [
    "model.get_losses_for(dataset.x_train[:10])"
   ]
  },
  {
   "cell_type": "code",
   "execution_count": null,
   "metadata": {},
   "outputs": [],
   "source": [
    "\n",
    "\n",
    "\n",
    "\n",
    "\n",
    "\n",
    "\n",
    "\n",
    "\n",
    "\n",
    "\n",
    "\n",
    "\n",
    "\n",
    "\n",
    "\n",
    "\n"
   ]
  }
 ],
 "metadata": {
  "kernelspec": {
   "display_name": "tf2",
   "language": "python",
   "name": "tf2"
  },
  "language_info": {
   "codemirror_mode": {
    "name": "ipython",
    "version": 3
   },
   "file_extension": ".py",
   "mimetype": "text/x-python",
   "name": "python",
   "nbconvert_exporter": "python",
   "pygments_lexer": "ipython3",
   "version": "3.5.3"
  }
 },
 "nbformat": 4,
 "nbformat_minor": 4
}
