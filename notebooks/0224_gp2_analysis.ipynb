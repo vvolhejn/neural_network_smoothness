{
 "cells": [
  {
   "cell_type": "code",
   "execution_count": null,
   "metadata": {},
   "outputs": [],
   "source": [
    "import os\n",
    "import sys\n",
    "# If we don't need CUDA, do this before importing TF\n",
    "os.environ[\"CUDA_VISIBLE_DEVICES\"] = \"-1\"\n",
    "import tensorflow as tf\n",
    "import numpy as np\n",
    "import pandas as pd\n",
    "import tqdm\n",
    "import tqdm.notebook\n",
    "import scipy.stats\n",
    "\n",
    "import matplotlib.pyplot as plt\n",
    "\n",
    "gpus = tf.config.experimental.list_physical_devices('GPU')\n",
    "if gpus:\n",
    "    tf.config.experimental.set_visible_devices([gpus[1]], 'GPU')\n",
    "\n",
    "sys.path.append(\"/nfs/scistore12/chlgrp/vvolhejn/smooth\")\n",
    "\n",
    "os.chdir(\"/nfs/scistore12/chlgrp/vvolhejn/smooth/logs/0224_gp2/\")"
   ]
  },
  {
   "cell_type": "code",
   "execution_count": null,
   "metadata": {},
   "outputs": [],
   "source": [
    "%load_ext autoreload\n",
    "%aimport smooth.datasets\n",
    "%aimport smooth.model\n",
    "%aimport smooth.analysis\n",
    "%aimport smooth.callbacks\n",
    "%aimport smooth.measures\n",
    "%aimport smooth.util\n",
    "%autoreload 1"
   ]
  },
  {
   "cell_type": "code",
   "execution_count": null,
   "metadata": {},
   "outputs": [],
   "source": [
    "df = pd.read_feather(\"measures.feather\")\n",
    "smooth.analysis.remove_constant_columns(df)\n",
    "df = smooth.analysis.expand_dataset_columns(df)\n",
    "df[\"log_dir\"] = df[\"log_dir\"].str.split(\"/\").str.get(-1)\n",
    "df.head()"
   ]
  },
  {
   "cell_type": "code",
   "execution_count": null,
   "metadata": {},
   "outputs": [],
   "source": [
    "for col in [\"actual_epochs\", \"train_loss\", \"test_loss\"]:\n",
    "    if df[col].dtype == \"object\":\n",
    "        continue\n",
    "    plt.hist(df[col], bins=20)\n",
    "    plt.title(col)\n",
    "    plt.show()"
   ]
  },
  {
   "cell_type": "code",
   "execution_count": null,
   "metadata": {},
   "outputs": [],
   "source": [
    "def get_interpolation_measures(dataset_names, use_test_set=False):\n",
    "    res = []\n",
    "    for dataset_name in tqdm.notebook.tqdm(dataset_names):\n",
    "        dataset = smooth.datasets.GaussianProcessDataset.from_name(dataset_name)\n",
    "        model = smooth.model.interpolate_relu_network(dataset, use_test_set)\n",
    "        measures = smooth.measures.get_measures(\n",
    "            model,\n",
    "            dataset.x_test, dataset.y_test,\n",
    "            include_training_measures=False,\n",
    "        )\n",
    "        res.append(measures)\n",
    "    \n",
    "    return pd.DataFrame(res, index=dataset_names)\n",
    "\n",
    "im_train = get_interpolation_measures(df[\"dataset\"].unique())\n",
    "im_test = get_interpolation_measures(df[\"dataset\"].unique(), use_test_set=True)"
   ]
  },
  {
   "cell_type": "code",
   "execution_count": null,
   "metadata": {},
   "outputs": [],
   "source": [
    "df1 = df[(df[\"seed\"] == 1) & (df[\"lengthscale\"] == 0.1) & (df[\"train_loss\"] < 10)]\n",
    "for hs in [100, 1000]:\n",
    "    df2 = df1[df1[\"hidden_size\"] == hs]\n",
    "    plt.scatter(df2[\"samples_train\"], df2[\"seg_total_variation\"], alpha=0.3)"
   ]
  },
  {
   "cell_type": "code",
   "execution_count": null,
   "metadata": {},
   "outputs": [],
   "source": [
    "df1 = df[(df[\"seed\"] == 2) & (df[\"lengthscale\"] == 0.3) & (df[\"train_loss\"] < 1)]\n",
    "# df1 = df1[(df1[\"\"])]\n",
    "\n",
    "# plt.scatter(df1[\"samples_train\"], df1[\"seg_total_variation\"], alpha=0.3)\n",
    "df1 = df1[df1[\"samples_train\"] == 33]\n",
    "print(len(df1))\n",
    "\n",
    "dataset = smooth.datasets.GaussianProcessDataset.from_name(df1.iloc[0][\"dataset\"])\n",
    "x = dataset.x_test\n",
    "\n",
    "ax = plt.subplot()\n",
    "ax.plot(x, dataset.y_test, color=\"C0\")\n",
    "ax.scatter(dataset.x_train, dataset.y_train, color=\"C0\")\n",
    "\n",
    "for i, row in list(df1.iterrows()):\n",
    "    log_dir = row[\"log_dir\"]\n",
    "    model = tf.keras.models.load_model(os.path.join(log_dir, \"model.h5\"))\n",
    "    y = model.predict(x)\n",
    "#     color = {\n",
    "#         10: \"C1\",\n",
    "#         30: \"C2\",\n",
    "#         100: \"C3\",\n",
    "#     }[row[\"samples_train\"]]\n",
    "    color=\"C1\"\n",
    "    ax.plot(x, y, alpha=1, color=color)\n",
    "\n",
    "\n",
    "#     smooth.analysis.plot_shallow(model, dataset, title=log_dir)"
   ]
  },
  {
   "cell_type": "code",
   "execution_count": null,
   "metadata": {},
   "outputs": [],
   "source": [
    "df1"
   ]
  },
  {
   "cell_type": "code",
   "execution_count": null,
   "metadata": {},
   "outputs": [],
   "source": []
  }
 ],
 "metadata": {
  "kernelspec": {
   "display_name": "tf2",
   "language": "python",
   "name": "tf2"
  },
  "language_info": {
   "codemirror_mode": {
    "name": "ipython",
    "version": 3
   },
   "file_extension": ".py",
   "mimetype": "text/x-python",
   "name": "python",
   "nbconvert_exporter": "python",
   "pygments_lexer": "ipython3",
   "version": "3.5.3"
  }
 },
 "nbformat": 4,
 "nbformat_minor": 4
}
