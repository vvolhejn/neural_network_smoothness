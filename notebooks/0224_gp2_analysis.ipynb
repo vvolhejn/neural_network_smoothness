{
 "cells": [
  {
   "cell_type": "code",
   "execution_count": null,
   "metadata": {
    "pycharm": {
     "is_executing": false
    }
   },
   "outputs": [],
   "source": [
    "import os\n",
    "import sys\n",
    "# If we don't need CUDA, do this before importing TF\n",
    "os.environ[\"CUDA_VISIBLE_DEVICES\"] = \"-1\"\n",
    "import tensorflow as tf\n",
    "import numpy as np\n",
    "import pandas as pd\n",
    "import tqdm\n",
    "import tqdm.notebook\n",
    "import scipy.stats\n",
    "\n",
    "import matplotlib.pyplot as plt\n",
    "\n",
    "gpus = tf.config.experimental.list_physical_devices('GPU')\n",
    "if gpus:\n",
    "    tf.config.experimental.set_visible_devices([gpus[1]], 'GPU')\n",
    "\n",
    "sys.path.append(\"/nfs/scistore12/chlgrp/vvolhejn/smooth\")\n",
    "\n",
    "os.chdir(\"/nfs/scistore12/chlgrp/vvolhejn/smooth/logs/0224_gp2/\")"
   ]
  },
  {
   "cell_type": "code",
   "execution_count": null,
   "metadata": {
    "pycharm": {
     "is_executing": false
    }
   },
   "outputs": [],
   "source": [
    "%load_ext autoreload\n",
    "%aimport smooth.datasets\n",
    "%aimport smooth.model\n",
    "%aimport smooth.analysis\n",
    "%aimport smooth.callbacks\n",
    "%aimport smooth.measures\n",
    "%aimport smooth.util\n",
    "%autoreload 1\n",
    "\n",
    "import smooth\n",
    "import smooth.datasets"
   ]
  },
  {
   "cell_type": "code",
   "execution_count": null,
   "metadata": {},
   "outputs": [],
   "source": [
    "df = pd.read_feather(\"measures.feather\")\n",
    "smooth.analysis.remove_constant_columns(df)\n",
    "df = smooth.analysis.expand_dataset_columns(df)\n",
    "df[\"log_dir\"] = df[\"log_dir\"].str.split(\"/\").str.get(-1)\n",
    "df.head()"
   ]
  },
  {
   "cell_type": "code",
   "execution_count": null,
   "metadata": {},
   "outputs": [],
   "source": [
    "for col in [\"actual_epochs\", \"train_loss\", \"test_loss\"]:\n",
    "    if df[col].dtype == \"object\":\n",
    "        continue\n",
    "    plt.hist(df[col], bins=20)\n",
    "    plt.title(col)\n",
    "    plt.show()"
   ]
  },
  {
   "cell_type": "code",
   "execution_count": null,
   "metadata": {},
   "outputs": [],
   "source": [
    "def get_interpolation_measures(dataset_names, use_test_set=False):\n",
    "    res = []\n",
    "    for dataset_name in tqdm.notebook.tqdm(dataset_names):\n",
    "        dataset = smooth.datasets.GaussianProcessDataset.from_name(dataset_name)\n",
    "        model = smooth.model.interpolate_relu_network(dataset, use_test_set)\n",
    "        measures = smooth.measures.get_measures(\n",
    "            model,\n",
    "            dataset.x_test, dataset.y_test,\n",
    "            include_training_measures=False,\n",
    "        )\n",
    "        res.append(measures)\n",
    "    \n",
    "    return pd.DataFrame(res, index=pd.Index(dataset_names, name=\"dataset\"))\n",
    "\n",
    "im_train = get_interpolation_measures(df[\"dataset\"].unique())\n",
    "im_test = get_interpolation_measures(df[\"dataset\"].unique(), use_test_set=True)\n",
    "im_train = smooth.analysis.expand_dataset_columns(im_train.reset_index())\n",
    "im_test = smooth.analysis.expand_dataset_columns(im_test.reset_index())"
   ]
  },
  {
   "cell_type": "code",
   "execution_count": null,
   "metadata": {},
   "outputs": [],
   "source": [
    "def plot_by_samples(df, seed, lengthscale):\n",
    "    df1 = df[(df[\"seed\"] == seed) & (df[\"lengthscale\"] == lengthscale)]\n",
    "    df1 = df1.sort_values(\"samples_train\")\n",
    "    samples_variants = df1[\"samples_train\"].unique()\n",
    "    samples_variants.sort()\n",
    "    \n",
    "    plt.plot(df1[\"samples_train\"], df1[\"seg_total_variation\"])\n",
    "    return samples_variants\n",
    "\n",
    "plot_by_samples(df, 5, 0.3)\n",
    "plot_by_samples(im_train, 5, 0.3)\n",
    "plot_by_samples(im_test, 5, 0.3)"
   ]
  },
  {
   "cell_type": "code",
   "execution_count": null,
   "metadata": {},
   "outputs": [],
   "source": [
    "im_train.index.name = \"dataset\"\n",
    "smooth.analysis.expand_dataset_columns(im_train.reset_index())"
   ]
  },
  {
   "cell_type": "code",
   "execution_count": null,
   "metadata": {},
   "outputs": [],
   "source": [
    "df1 = df[(df[\"seed\"] == 5) & (df[\"lengthscale\"] == 0.1) & (df[\"train_loss\"] < 0.1)]\n",
    "for hs in [100, 1000]:\n",
    "    df2 = df1[df1[\"hidden_size\"] == hs]\n",
    "    plt.scatter(df2[\"samples_train\"], df2[\"seg_total_variation\"], alpha=0.3)"
   ]
  },
  {
   "cell_type": "code",
   "execution_count": null,
   "metadata": {},
   "outputs": [],
   "source": []
  },
  {
   "cell_type": "code",
   "execution_count": null,
   "metadata": {},
   "outputs": [],
   "source": [
    "df1 = df[(df[\"seed\"] == 2) & (df[\"lengthscale\"] == 0.1) & (df[\"train_loss\"] < 10)]\n",
    "# df1 = df1[(df1[\"\"])]\n",
    "\n",
    "# plt.scatter(df1[\"samples_train\"], df1[\"seg_total_variation\"], alpha=0.3)\n",
    "#df1 = df1[df1[\"samples_train\"] == 33]\n",
    "print(len(df1))\n",
    "\n",
    "dataset = smooth.datasets.GaussianProcessDataset.from_name(df1.iloc[0][\"dataset\"])\n",
    "x = dataset.x_test\n",
    "\n",
    "ax = plt.subplot()\n",
    "ax.plot(x, dataset.y_test, color=\"C0\")\n",
    "ax.scatter(dataset.x_train, dataset.y_train, color=\"C0\")\n",
    "\n",
    "for i, row in list(df1.iterrows()):\n",
    "    log_dir = row[\"log_dir\"]\n",
    "    model = tf.keras.models.load_model(os.path.join(log_dir, \"model.h5\"))\n",
    "    y = model.predict(x)\n",
    "#     color = {\n",
    "#         10: \"C1\",\n",
    "#         30: \"C2\",\n",
    "#         100: \"C3\",\n",
    "#     }[row[\"samples_train\"]]\n",
    "    color=\"C1\"\n",
    "    ax.plot(x, y, alpha=0.1, color=color)\n",
    "\n",
    "\n",
    "#     smooth.analysis.plot_shallow(model, dataset, title=log_dir)"
   ]
  },
  {
   "cell_type": "code",
   "execution_count": null,
   "metadata": {},
   "outputs": [],
   "source": [
    "df1"
   ]
  },
  {
   "cell_type": "code",
   "execution_count": null,
   "metadata": {},
   "outputs": [],
   "source": [
    "def sample_regularly(n):\n",
    "    assert n >= 2\n",
    "    res = []\n",
    "    rem = range(1, n-1)[::-1]\n",
    "    div = 2\n",
    "    while rem:\n",
    "        rem2 = []\n",
    "        for x in rem:\n",
    "            if x % div == 0:\n",
    "                rem2.append(x)\n",
    "            else:\n",
    "                res.append(x)\n",
    "        rem = rem2\n",
    "        div *= 2\n",
    "    res += [n-1, 0]\n",
    "    return res[::-1]\n",
    "\n",
    "sample_regularly(8)"
   ]
  }
 ],
 "metadata": {
  "kernelspec": {
   "display_name": "tf2",
   "language": "python",
   "name": "tf2"
  },
  "language_info": {
   "codemirror_mode": {
    "name": "ipython",
    "version": 3
   },
   "file_extension": ".py",
   "mimetype": "text/x-python",
   "name": "python",
   "nbconvert_exporter": "python",
   "pygments_lexer": "ipython3",
   "version": "3.5.3"
  },
  "pycharm": {
   "stem_cell": {
    "cell_type": "raw",
    "metadata": {
     "collapsed": false
    },
    "source": []
   }
  }
 },
 "nbformat": 4,
 "nbformat_minor": 4
}
