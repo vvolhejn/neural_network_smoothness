{
 "cells": [
  {
   "cell_type": "code",
   "execution_count": null,
   "metadata": {},
   "outputs": [],
   "source": [
    "import GPy\n",
    "from matplotlib import pyplot as plt\n",
    "import numpy as np"
   ]
  },
  {
   "cell_type": "code",
   "execution_count": null,
   "metadata": {},
   "outputs": [],
   "source": [
    "kernel = GPy.kern.ExpQuad(1)"
   ]
  },
  {
   "cell_type": "code",
   "execution_count": null,
   "metadata": {},
   "outputs": [],
   "source": [
    "np.zeros((0,1))"
   ]
  },
  {
   "cell_type": "code",
   "execution_count": null,
   "metadata": {},
   "outputs": [],
   "source": [
    "m = GPy.models.GPRegression(np.array([[0],[10]]), np.zeros((2,1)))"
   ]
  },
  {
   "cell_type": "code",
   "execution_count": null,
   "metadata": {},
   "outputs": [],
   "source": [
    "m."
   ]
  },
  {
   "cell_type": "code",
   "execution_count": null,
   "metadata": {},
   "outputs": [],
   "source": [
    "m.plot()"
   ]
  },
  {
   "cell_type": "code",
   "execution_count": null,
   "metadata": {},
   "outputs": [],
   "source": [
    "m.predict(np.array([[0.5], [1.]]))"
   ]
  },
  {
   "cell_type": "code",
   "execution_count": null,
   "metadata": {},
   "outputs": [],
   "source": [
    "np.random.rand(2, 1) * 10"
   ]
  },
  {
   "cell_type": "markdown",
   "metadata": {},
   "source": [
    "## 1D"
   ]
  },
  {
   "cell_type": "code",
   "execution_count": null,
   "metadata": {},
   "outputs": [],
   "source": [
    "import tqdm.notebook"
   ]
  },
  {
   "cell_type": "code",
   "execution_count": null,
   "metadata": {},
   "outputs": [],
   "source": [
    "X = np.array([[-1],[10]])\n",
    "Y = np.array([[0],[0]])\n",
    "m = GPy.models.GPRegression(X, Y, noise_var=0)\n",
    "m.kern.lengthscale = 3.\n",
    "for x in tqdm.notebook.tqdm(range(300)):\n",
    "    mean, var = m.predict(np.array([[x]]))\n",
    "#     np.random.normal(mean[0], np.sqrt(var[0]))\n",
    "    y = np.random.normal(mean[0], np.sqrt(var[0]))\n",
    "    X = np.append(X, [[x]]).reshape((-1, 1))\n",
    "    Y = np.append(Y, [y]).reshape((-1, 1))\n",
    "    m.set_XY(X, Y)\n",
    "#     m.plot()\n",
    "\n",
    "m.plot()"
   ]
  },
  {
   "cell_type": "code",
   "execution_count": null,
   "metadata": {},
   "outputs": [],
   "source": []
  },
  {
   "cell_type": "code",
   "execution_count": null,
   "metadata": {},
   "outputs": [],
   "source": [
    "X = np.linspace(0,299,300).reshape((300,-1))\n",
    "Y = np.zeros_like(X)\n",
    "m = GPy.models.GPRegression(X[:1], Y[:1], noise_var=0)\n",
    "m.kern.lengthscale = 3.\n",
    "for x in tqdm.notebook.tqdm(range(300)):\n",
    "    mean, var = m.predict(np.array([[x]]))\n",
    "#     np.random.normal(mean[0], np.sqrt(var[0]))\n",
    "    y = np.random.normal(mean[0], np.sqrt(var[0]))\n",
    "    Y[x] = y\n",
    "    m.set_XY(X[:x+1], Y[:x+1])\n",
    "#     m.plot()\n",
    "\n",
    "m.plot()"
   ]
  },
  {
   "cell_type": "markdown",
   "metadata": {},
   "source": [
    "## Simpler way to sample functions"
   ]
  },
  {
   "cell_type": "code",
   "execution_count": null,
   "metadata": {},
   "outputs": [],
   "source": [
    "m = GPy.models.GPRegression(np.array([[0]]), np.array([[0]]), noise_var=0)\n",
    "testX = np.linspace(0, 10, 100).reshape(-1, 1)\n",
    "posteriorTestY = m.posterior_samples_f(testX, full_cov=True, size=3)\n",
    "plt.plot(testX, posteriorTestY[:,:,0])"
   ]
  },
  {
   "cell_type": "code",
   "execution_count": null,
   "metadata": {},
   "outputs": [],
   "source": [
    "X = np.array([[-1,-1],[10,10]])\n",
    "Y = np.array([[0],[0]])\n",
    "m = GPy.models.GPRegression(X, Y, noise_var=0)\n",
    "m.kern.lengthscale = 3.\n",
    "steps = list(range(100))\n",
    "# np.random.shuffle(steps)\n",
    "for i in steps:\n",
    "    x = np.random.rand(1, 2) * 10\n",
    "    mean, var = m.predict(x)\n",
    "#     np.random.normal(mean[0], np.sqrt(var[0]))\n",
    "    y = np.random.normal(mean[0], np.sqrt(var[0]))\n",
    "#     print(\"Adding\",x,y)\n",
    "    X = np.append(X, [[x]]).reshape((-1, 2))\n",
    "    Y = np.append(Y, [y]).reshape((-1, 1))\n",
    "#     print(X)\n",
    "#     print(Y)\n",
    "    m.set_XY(X, Y)\n",
    "#     m.plot()\n",
    "\n",
    "m.plot()"
   ]
  }
 ],
 "metadata": {
  "kernelspec": {
   "display_name": "tf2",
   "language": "python",
   "name": "tf2"
  },
  "language_info": {
   "codemirror_mode": {
    "name": "ipython",
    "version": 3
   },
   "file_extension": ".py",
   "mimetype": "text/x-python",
   "name": "python",
   "nbconvert_exporter": "python",
   "pygments_lexer": "ipython3",
   "version": "3.5.3"
  }
 },
 "nbformat": 4,
 "nbformat_minor": 4
}
