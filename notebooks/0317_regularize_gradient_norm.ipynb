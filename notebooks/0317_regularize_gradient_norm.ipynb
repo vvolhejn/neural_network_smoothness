{
 "cells": [
  {
   "cell_type": "markdown",
   "metadata": {},
   "source": [
    "# Regularizing gradient norm\n",
    "\n",
    "To see if gradient norm (or any metric) is implicitly regularized, we can try regularizing it _explicitly_ and seeing how the results change. If regularizing the gradient norm does not decrease it significantly, then probably it is already being regularized implicitly."
   ]
  },
  {
   "cell_type": "code",
   "execution_count": null,
   "metadata": {},
   "outputs": [],
   "source": [
    "import os\n",
    "import sys\n",
    "# If we don't need CUDA, do this before importing TF\n",
    "os.environ[\"CUDA_VISIBLE_DEVICES\"] = \"-1\"\n",
    "import tensorflow as tf\n",
    "import numpy as np\n",
    "import pandas as pd\n",
    "import tqdm\n",
    "import tqdm.notebook\n",
    "import matplotlib.pyplot as plt\n",
    "import seaborn as sns\n",
    "import IPython\n",
    "sns.set()"
   ]
  },
  {
   "cell_type": "code",
   "execution_count": null,
   "metadata": {},
   "outputs": [],
   "source": [
    "%load_ext autoreload\n",
    "%aimport smooth.datasets\n",
    "%aimport smooth.model\n",
    "%aimport smooth.analysis\n",
    "%aimport smooth.callbacks\n",
    "%aimport smooth.measures\n",
    "%aimport smooth.util\n",
    "%autoreload 1"
   ]
  },
  {
   "cell_type": "code",
   "execution_count": null,
   "metadata": {},
   "outputs": [],
   "source": [
    "dataset = smooth.datasets.GaussianProcessDataset(samples_train=10, lengthscale=0.3, seed=1, dim=1)"
   ]
  },
  {
   "cell_type": "code",
   "execution_count": null,
   "metadata": {},
   "outputs": [],
   "source": [
    "class RegularizedGradient(tf.keras.Model):\n",
    "\n",
    "    def __init__(self, dataset):\n",
    "        super(RegularizedGradient, self).__init__()\n",
    "        self.model = smooth.model.get_shallow(\n",
    "            dataset,\n",
    "            learning_rate=1e-2,\n",
    "            init_scale=100,\n",
    "            hidden_size=16,\n",
    "            activation=\"relu\",\n",
    "        )\n",
    "        self.loss = self.model.loss\n",
    "        self.loss_functions = self.model.loss_functions\n",
    "        self.optimizer = self.model.optimizer\n",
    "\n",
    "    def call(self, x):\n",
    "#         return self.model(x)\n",
    "#         x = tf.reshape(x, (-1, 1))\n",
    "        with tf.GradientTape() as tape:\n",
    "            tape.watch(x)\n",
    "            y = self.model(x)\n",
    "\n",
    "#         g = tape.batch_jacobian(y, x)\n",
    "# #         print(tf.reduce_sum(g ** 2))\n",
    "#         self.add_loss(1e-3 * tf.reduce_sum(g ** 2))\n",
    "\n",
    "        return y\n",
    "\n",
    "    \n",
    "def get_model(dataset):\n",
    "    model = smooth.model.get_shallow(\n",
    "        dataset,\n",
    "        learning_rate=1e-2,\n",
    "        init_scale=1,\n",
    "        hidden_size=32,\n",
    "        activation=\"relu\",\n",
    "    )"
   ]
  },
  {
   "cell_type": "code",
   "execution_count": null,
   "metadata": {},
   "outputs": [],
   "source": [
    "def train(dataset, reg_coef, sparsity):\n",
    "    model = smooth.model.get_shallow(\n",
    "        dataset,\n",
    "        learning_rate=1e-2,\n",
    "        init_scale=100,\n",
    "        hidden_size=100,\n",
    "        activation=\"relu\",\n",
    "    )\n",
    "    model = smooth.model.RegularizedGradientModel(model, dataset.x_test, coef=reg_coef, sparsity=sparsity)\n",
    "    \n",
    "    batch_size = 64\n",
    "    train_dataset = tf.data.Dataset.from_tensor_slices((dataset.x_train, dataset.y_train))\n",
    "    train_dataset = train_dataset.shuffle(buffer_size=1024).batch(batch_size)\n",
    "    \n",
    "    epochs = 5000\n",
    "    progress = tqdm.notebook.tqdm(range(epochs))\n",
    "\n",
    "    x_test = tf.constant(dataset.x_test)\n",
    "    y_test = tf.constant(dataset.y_test)\n",
    "    \n",
    "    for epoch in progress:\n",
    "#         print('Start of epoch %d' % (epoch,))\n",
    "        for step, (x_batch_train, y_batch_train) in enumerate(train_dataset):\n",
    "            with tf.GradientTape() as tape:\n",
    "                with tf.GradientTape() as tape2:\n",
    "                    tape2.watch(x_test)\n",
    "                    y_test_pred = model(x_test)\n",
    "                \n",
    "                loss_value = model.loss_functions[0](y_batch_train, model(x_batch_train))\n",
    "                # Add extra losses created during this forward pass:\n",
    "                loss_value += sum(model.losses)\n",
    "\n",
    "#                 g = tape2.batch_jacobian(y_test_pred, x_test)\n",
    "#                 loss_value += (reg * tf.reduce_mean(g ** 2))\n",
    "\n",
    "            grads = tape.gradient(loss_value, model.trainable_weights)\n",
    "            model.optimizer.apply_gradients(zip(grads, model.trainable_weights))\n",
    "        \n",
    "        if loss_value < 1e-6:\n",
    "            break\n",
    "        \n",
    "        if epoch % 10 == 0:\n",
    "            progress.set_postfix(loss_train=float(loss_value))\n",
    "        # Log every 200 batches.\n",
    "#         if step % 200 == 0:\n",
    "#             print('Training loss (for one batch) at step %s: %s' % (step, float(loss_value)))\n",
    "#             print('Seen so far: %s samples' % ((step + 1) * 64))\n",
    "\n",
    "    \n",
    "    return model\n",
    "\n",
    "model = train(dataset, 1)\n",
    "smooth.analysis.plot_shallow(model, dataset)"
   ]
  },
  {
   "cell_type": "code",
   "execution_count": null,
   "metadata": {},
   "outputs": [],
   "source": [
    "dataset = smooth.datasets.GaussianProcessDataset(dim=32, lengthscale=0.3, samples_train=500, seed=3)"
   ]
  },
  {
   "cell_type": "code",
   "execution_count": null,
   "metadata": {},
   "outputs": [],
   "source": [
    "dataset = smooth.datasets.MnistParityDataset()\n",
    "dataset.x_test = dataset.x_test[:10000]\n",
    "dataset.y_test = dataset.y_test[:10000]"
   ]
  },
  {
   "cell_type": "code",
   "execution_count": null,
   "metadata": {},
   "outputs": [],
   "source": [
    "l = []\n",
    "\n",
    "for coef in tqdm.notebook.tqdm([1e-4, 1e-4, 1e-3, 1e-2, 1e-1, 1e0]):\n",
    "    model = smooth.model.train_shallow(\n",
    "        dataset=dataset,\n",
    "        learning_rate=1e-2,\n",
    "        init_scale=1,\n",
    "        hidden_size=100,\n",
    "        epochs=20000,\n",
    "        verbose=0,\n",
    "        loss_threshold=1e-5,\n",
    "        gradient_norm_reg_coef=coef,\n",
    "        callbacks=[\n",
    "            tqdm.keras.TqdmCallback(verbose=0)\n",
    "        ]\n",
    "    )\n",
    "#     print(\"Coef:\", coef)\n",
    "#     smooth.analysis.plot_shallow(model, dataset)\n",
    "    l.append(smooth.measures.get_measures(model, dataset))\n",
    "\n",
    "ms = pd.DataFrame(l)"
   ]
  },
  {
   "cell_type": "code",
   "execution_count": null,
   "metadata": {},
   "outputs": [],
   "source": [
    "tf.keras.models.save_model(model.model, \"test.h5\")"
   ]
  },
  {
   "cell_type": "code",
   "execution_count": null,
   "metadata": {},
   "outputs": [],
   "source": [
    "ms"
   ]
  },
  {
   "cell_type": "code",
   "execution_count": null,
   "metadata": {},
   "outputs": [],
   "source": [
    "smooth.analysis.plot_shallow(model, dataset)\n",
    "smooth.analysis.plot_shallow(model, dataset)"
   ]
  },
  {
   "cell_type": "code",
   "execution_count": null,
   "metadata": {},
   "outputs": [],
   "source": [
    "l = []\n",
    "for sparsity in [10, 100]:\n",
    "    model = train(dataset, 1., sparsity)\n",
    "    measures = smooth.measures.get_measures(model, dataset)\n",
    "    l.append(measures)\n",
    "\n",
    "ms = pd.DataFrame(l)"
   ]
  },
  {
   "cell_type": "code",
   "execution_count": null,
   "metadata": {},
   "outputs": [],
   "source": [
    "x = tf.constant(dataset.x_train)\n",
    "with tf.GradientTape() as tape:\n",
    "    tape.watch(x)\n",
    "    y = model(x)\n",
    "\n",
    "tape.batch_jacobian(y, x)"
   ]
  },
  {
   "cell_type": "code",
   "execution_count": null,
   "metadata": {},
   "outputs": [],
   "source": [
    "y"
   ]
  },
  {
   "cell_type": "code",
   "execution_count": null,
   "metadata": {},
   "outputs": [],
   "source": [
    "model"
   ]
  },
  {
   "cell_type": "code",
   "execution_count": null,
   "metadata": {},
   "outputs": [],
   "source": [
    "model = tf.keras.Sequential([tf.keras.layers.Dense(1, input_shape=(1,))])\n",
    "model.compile(optimizer=tf.keras.optimizers.SGD(1e-2), loss=\"mse\")\n",
    "\n",
    "model.fit(np.random.rand(10, 1), np.random.rand(10, 1), epochs=100, verbose=0, callbacks=[\n",
    "    smooth.callbacks.Stopping(0.2),\n",
    "    tqdm.keras.TqdmCallback(),\n",
    "#     tf.keras.callbacks.EarlyStopping(monitor=\"loss\", min_delta=10, patience=50)\n",
    "])"
   ]
  },
  {
   "cell_type": "code",
   "execution_count": null,
   "metadata": {},
   "outputs": [],
   "source": [
    "np.random.rand(4)"
   ]
  },
  {
   "cell_type": "code",
   "execution_count": null,
   "metadata": {},
   "outputs": [],
   "source": [
    "os.chdir(\"/nfs/scistore12/chlgrp/vvolhejn/smooth/logs_debug/0318-163604/\")\n",
    "ms = pd.read_feather(\"./measures.feather\")\n",
    "ms = ms.sort_values(\"model.gradient_norm_reg_coef\")"
   ]
  },
  {
   "cell_type": "code",
   "execution_count": null,
   "metadata": {},
   "outputs": [],
   "source": [
    "ms"
   ]
  },
  {
   "cell_type": "code",
   "execution_count": null,
   "metadata": {},
   "outputs": [],
   "source": [
    "os.chdir(\"/nfs/scistore12/chlgrp/vvolhejn/smooth/logs_debug/0318-171746/\")\n",
    "ms = pd.read_feather(\"./measures.feather\")\n",
    "ms = ms.sort_values(\"model.gradient_norm_reg_coef\")\n",
    "ms"
   ]
  },
  {
   "cell_type": "code",
   "execution_count": null,
   "metadata": {},
   "outputs": [],
   "source": [
    "os.chdir(\"/nfs/scistore12/chlgrp/vvolhejn/smooth/logs_debug/0320-154905/\")\n",
    "ms = pd.read_feather(\"./measures.feather\")\n",
    "ms = ms.sort_values(\"model.gradient_norm_reg_coef\")\n",
    "ms = ms.iloc[:8]\n",
    "ms"
   ]
  },
  {
   "cell_type": "code",
   "execution_count": null,
   "metadata": {},
   "outputs": [],
   "source": [
    "ms[ms[\"model.gradient_norm_reg_coef\"] == 0.001]"
   ]
  },
  {
   "cell_type": "code",
   "execution_count": null,
   "metadata": {},
   "outputs": [],
   "source": [
    "ms[[\"loss_train\", \"gradient_norm\", \"model.gradient_norm_reg_coef\"]]"
   ]
  },
  {
   "cell_type": "code",
   "execution_count": null,
   "metadata": {},
   "outputs": [],
   "source": [
    "(ms[\"gradient_norm\"] * ms[\"model.gradient_norm_reg_coef\"]) / ms[\"loss_train\"]"
   ]
  },
  {
   "cell_type": "code",
   "execution_count": null,
   "metadata": {},
   "outputs": [],
   "source": [
    "ms[\"path_length_d_test\"] / ms[\"weights_rms\"]"
   ]
  },
  {
   "cell_type": "code",
   "execution_count": null,
   "metadata": {},
   "outputs": [],
   "source": [
    "model_name = \"./bs=64_d=mnistparity-300_e=10000_hs=64_is=1.0_i=0_lr=0.01_rc=0.001/model.h5\"\n",
    "model = tf.keras.models.load_model(model_name)"
   ]
  },
  {
   "cell_type": "code",
   "execution_count": null,
   "metadata": {},
   "outputs": [],
   "source": [
    "dataset = smooth.datasets.from_params(name=\"mnistparity\", samples_train=300)"
   ]
  },
  {
   "cell_type": "code",
   "execution_count": null,
   "metadata": {},
   "outputs": [],
   "source": [
    "smooth.measures.gradient_norm(model, dataset.x_test)\n",
    "# model.predict(dataset.x_train[:10])"
   ]
  },
  {
   "cell_type": "code",
   "execution_count": null,
   "metadata": {},
   "outputs": [],
   "source": [
    "smooth.measures.gradient_norm(model, dataset.x_test)"
   ]
  },
  {
   "cell_type": "code",
   "execution_count": null,
   "metadata": {},
   "outputs": [],
   "source": [
    "y = model(x)"
   ]
  },
  {
   "cell_type": "code",
   "execution_count": null,
   "metadata": {},
   "outputs": [],
   "source": [
    "y"
   ]
  },
  {
   "cell_type": "code",
   "execution_count": null,
   "metadata": {},
   "outputs": [],
   "source": [
    "with tf.GradientTape() as g:\n",
    "    x = tf.constant(dataset.x_train[:13])\n",
    "    g.watch(x)\n",
    "    y = model(x)\n",
    "\n",
    "dy_dx = g.batch_jacobian(y, x)\n",
    "# axes_to_sum = tuple(range(2, len(dy_dx.shape)))"
   ]
  },
  {
   "cell_type": "code",
   "execution_count": null,
   "metadata": {},
   "outputs": [],
   "source": [
    "tf.norm(tf.reshape(dy_dx, (len(x),) + (model.output_shape[1:]) + (-1,)), axis=-1)"
   ]
  },
  {
   "cell_type": "code",
   "execution_count": null,
   "metadata": {},
   "outputs": [],
   "source": [
    "np.linalg.norm(dy_dx, axis=axes_to_sum)"
   ]
  },
  {
   "cell_type": "code",
   "execution_count": null,
   "metadata": {},
   "outputs": [],
   "source": [
    "isinstance(tf.constant(0), tf.Tensor)"
   ]
  },
  {
   "cell_type": "code",
   "execution_count": null,
   "metadata": {},
   "outputs": [],
   "source": []
  }
 ],
 "metadata": {
  "kernelspec": {
   "display_name": "tf2",
   "language": "python",
   "name": "tf2"
  },
  "language_info": {
   "codemirror_mode": {
    "name": "ipython",
    "version": 3
   },
   "file_extension": ".py",
   "mimetype": "text/x-python",
   "name": "python",
   "nbconvert_exporter": "python",
   "pygments_lexer": "ipython3",
   "version": "3.5.3"
  }
 },
 "nbformat": 4,
 "nbformat_minor": 4
}
