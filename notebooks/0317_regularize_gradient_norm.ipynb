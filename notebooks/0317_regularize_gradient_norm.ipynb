{
 "cells": [
  {
   "cell_type": "markdown",
   "metadata": {},
   "source": [
    "# Regularizing gradient norm\n",
    "\n",
    "To see if gradient norm (or any metric) is implicitly regularized, we can try regularizing it _explicitly_ and seeing how the results change. If regularizing the gradient norm does not decrease it significantly, then probably it is already being regularized implicitly."
   ]
  },
  {
   "cell_type": "code",
   "execution_count": null,
   "metadata": {},
   "outputs": [],
   "source": [
    "import os\n",
    "import sys\n",
    "# If we don't need CUDA, do this before importing TF\n",
    "os.environ[\"CUDA_VISIBLE_DEVICES\"] = \"-1\"\n",
    "import tensorflow as tf\n",
    "import numpy as np\n",
    "import pandas as pd\n",
    "import tqdm\n",
    "import tqdm.notebook\n",
    "import matplotlib.pyplot as plt\n",
    "import seaborn as sns\n",
    "import IPython\n",
    "sns.set()"
   ]
  },
  {
   "cell_type": "code",
   "execution_count": null,
   "metadata": {},
   "outputs": [],
   "source": [
    "%load_ext autoreload\n",
    "%aimport smooth.datasets\n",
    "%aimport smooth.model\n",
    "%aimport smooth.analysis\n",
    "%aimport smooth.callbacks\n",
    "%aimport smooth.measures\n",
    "%aimport smooth.util\n",
    "%autoreload 1"
   ]
  },
  {
   "cell_type": "code",
   "execution_count": null,
   "metadata": {},
   "outputs": [],
   "source": [
    "dataset = smooth.datasets.GaussianProcessDataset(samples_train=10, lengthscale=1., seed=1, dim=1)"
   ]
  },
  {
   "cell_type": "code",
   "execution_count": null,
   "metadata": {},
   "outputs": [],
   "source": [
    "model = smooth.model.interpolate_relu_network(dataset, use_test_set=False)\n",
    "\n",
    "from types import MethodType\n",
    "\n",
    "def f(self, x):\n",
    "    print(\"yaboi\")\n",
    "    return self.call2(x)\n",
    "\n",
    "model.call2 = model.call\n",
    "model.call = MethodType(f, model)"
   ]
  },
  {
   "cell_type": "code",
   "execution_count": null,
   "metadata": {},
   "outputs": [],
   "source": [
    "model([1])"
   ]
  },
  {
   "cell_type": "code",
   "execution_count": null,
   "metadata": {},
   "outputs": [],
   "source": [
    "from types import MethodType\n",
    "\n",
    "def f(self, x):\n",
    "    print(\"yaboi\")\n",
    "    return self.call(x)\n",
    "\n",
    "model.call = f"
   ]
  },
  {
   "cell_type": "code",
   "execution_count": null,
   "metadata": {},
   "outputs": [],
   "source": [
    "model([1])"
   ]
  },
  {
   "cell_type": "code",
   "execution_count": null,
   "metadata": {},
   "outputs": [],
   "source": [
    "smooth.analysis.plot_shallow(model, dataset)"
   ]
  },
  {
   "cell_type": "code",
   "execution_count": null,
   "metadata": {},
   "outputs": [],
   "source": [
    "model.loss_functions[0]([0], [2])"
   ]
  },
  {
   "cell_type": "code",
   "execution_count": null,
   "metadata": {},
   "outputs": [],
   "source": [
    "class RegularizedGradient(tf.keras.Model):\n",
    "\n",
    "    def __init__(self, dataset):\n",
    "        super(RegularizedGradient, self).__init__()\n",
    "        self.model = smooth.model.get_shallow(\n",
    "            dataset,\n",
    "            learning_rate=1e-2,\n",
    "            init_scale=100,\n",
    "            hidden_size=16,\n",
    "            activation=\"relu\",\n",
    "        )\n",
    "        self.loss = self.model.loss\n",
    "        self.loss_functions = self.model.loss_functions\n",
    "        self.optimizer = self.model.optimizer\n",
    "\n",
    "    def call(self, x):\n",
    "#         return self.model(x)\n",
    "#         x = tf.reshape(x, (-1, 1))\n",
    "        with tf.GradientTape() as tape:\n",
    "            tape.watch(x)\n",
    "            y = self.model(x)\n",
    "\n",
    "#         g = tape.batch_jacobian(y, x)\n",
    "# #         print(tf.reduce_sum(g ** 2))\n",
    "#         self.add_loss(1e-3 * tf.reduce_sum(g ** 2))\n",
    "\n",
    "        return y\n",
    "\n",
    "    \n",
    "def get_model(dataset):\n",
    "    model = smooth.model.get_shallow(\n",
    "        dataset,\n",
    "        learning_rate=1e-2,\n",
    "        init_scale=1,\n",
    "        hidden_size=32,\n",
    "        activation=\"relu\",\n",
    "    )"
   ]
  },
  {
   "cell_type": "code",
   "execution_count": null,
   "metadata": {},
   "outputs": [],
   "source": [
    "def train(dataset, reg=1e-3):\n",
    "    model = smooth.model.get_shallow(\n",
    "        dataset,\n",
    "        learning_rate=1e-2,\n",
    "        init_scale=100,\n",
    "        hidden_size=100,\n",
    "        activation=\"relu\",\n",
    "    )\n",
    "    model = smooth.model.RegularizedGradientModel(model, dataset.x_test, coef=1)\n",
    "\n",
    "    batch_size = 64\n",
    "    train_dataset = tf.data.Dataset.from_tensor_slices((dataset.x_train, dataset.y_train))\n",
    "    train_dataset = train_dataset.shuffle(buffer_size=1024).batch(batch_size)\n",
    "    \n",
    "    epochs = 1000\n",
    "    progress = tqdm.notebook.tqdm(range(epochs))\n",
    "\n",
    "    x_test = tf.constant(dataset.x_test)\n",
    "    y_test = tf.constant(dataset.y_test)\n",
    "    \n",
    "    for epoch in progress:\n",
    "#         print('Start of epoch %d' % (epoch,))\n",
    "        for step, (x_batch_train, y_batch_train) in enumerate(train_dataset):\n",
    "            with tf.GradientTape() as tape:\n",
    "                with tf.GradientTape() as tape2:\n",
    "                    tape2.watch(x_test)\n",
    "                    y_test_pred = model(x_test)\n",
    "                \n",
    "                loss_value = model.loss_functions[0](y_batch_train, model(x_batch_train))\n",
    "                # Add extra losses created during this forward pass:\n",
    "                loss_value += sum(model.losses)\n",
    "\n",
    "#                 g = tape2.batch_jacobian(y_test_pred, x_test)\n",
    "#                 loss_value += (reg * tf.reduce_mean(g ** 2))\n",
    "\n",
    "            grads = tape.gradient(loss_value, model.trainable_weights)\n",
    "            model.optimizer.apply_gradients(zip(grads, model.trainable_weights))\n",
    "        \n",
    "        if loss_value < 1e-6:\n",
    "            break\n",
    "        \n",
    "        if epoch % 10 == 0:\n",
    "            progress.set_postfix(loss_train=float(loss_value))\n",
    "        # Log every 200 batches.\n",
    "#         if step % 200 == 0:\n",
    "#             print('Training loss (for one batch) at step %s: %s' % (step, float(loss_value)))\n",
    "#             print('Seen so far: %s samples' % ((step + 1) * 64))\n",
    "\n",
    "    \n",
    "    return model\n",
    "\n",
    "model = train(dataset, 1)\n",
    "smooth.analysis.plot_shallow(model, dataset)"
   ]
  },
  {
   "cell_type": "code",
   "execution_count": null,
   "metadata": {},
   "outputs": [],
   "source": [
    "x = tf.constant(dataset.x_train)\n",
    "with tf.GradientTape() as tape:\n",
    "    tape.watch(x)\n",
    "    y = model(x)\n",
    "\n",
    "tape.batch_jacobian(y, x)"
   ]
  },
  {
   "cell_type": "code",
   "execution_count": null,
   "metadata": {},
   "outputs": [],
   "source": [
    "y"
   ]
  },
  {
   "cell_type": "code",
   "execution_count": null,
   "metadata": {},
   "outputs": [],
   "source": [
    "model"
   ]
  },
  {
   "cell_type": "code",
   "execution_count": null,
   "metadata": {},
   "outputs": [],
   "source": []
  },
  {
   "cell_type": "code",
   "execution_count": null,
   "metadata": {},
   "outputs": [],
   "source": [
    "    "
   ]
  }
 ],
 "metadata": {
  "kernelspec": {
   "display_name": "tf2",
   "language": "python",
   "name": "tf2"
  },
  "language_info": {
   "codemirror_mode": {
    "name": "ipython",
    "version": 3
   },
   "file_extension": ".py",
   "mimetype": "text/x-python",
   "name": "python",
   "nbconvert_exporter": "python",
   "pygments_lexer": "ipython3",
   "version": "3.5.3"
  }
 },
 "nbformat": 4,
 "nbformat_minor": 4
}
